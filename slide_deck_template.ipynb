{
 "cells": [
  {
   "cell_type": "markdown",
   "metadata": {
    "slideshow": {
     "slide_type": "slide"
    }
   },
   "source": [
    "# Project: Communicate Data Findings (2017-fordgobike-tripdata)\n",
    "## by Sidhi Agarwal"
   ]
  },
  {
   "cell_type": "markdown",
   "metadata": {
    "slideshow": {
     "slide_type": "slide"
    }
   },
   "source": [
    "## Investigation Overview\n",
    "\n",
    "> The overall goal is to show some analysis that has been done with this bike share data. We will try to detect several patterns in the data to have a better understading of how the users behave, when do they use the service, which factors have influence in the frequency of usage and how these factors interact with each other.\n",
    "\n",
    "## Dataset Overview\n",
    "\n",
    "> ### Each trip is anonymized and includes:\n",
    "\n",
    "> - Trip Duration (seconds)\n",
    "> - Start Time and Date\n",
    "> - End Time and Date\n",
    "> - Start Station ID\n",
    "> - Start Station Name\n",
    "> - Start Station Latitude\n",
    "> - Start Station Longitude\n",
    "> - End Station ID\n",
    "> - End Station Name\n",
    "> - End Station Latitude\n",
    "> - End Station Longitude\n",
    "> - Bike ID\n",
    "> - User Type (Subscriber or Customer – “Subscriber” = Member or “Customer” = Casual)\n",
    "###### There are 155686 records and 13 columns"
   ]
  },
  {
   "cell_type": "code",
   "execution_count": 6,
   "metadata": {
    "slideshow": {
     "slide_type": "skip"
    }
   },
   "outputs": [],
   "source": [
    "# import all packages and set plots to be embedded inline\n",
    "import numpy as np\n",
    "import pandas as pd\n",
    "import matplotlib.pyplot as plt\n",
    "import seaborn as sb\n",
    "import statistics \n",
    "from scipy import stats\n",
    "\n",
    "%matplotlib inline\n",
    "\n",
    "# suppress warnings from final output\n",
    "import warnings\n",
    "warnings.simplefilter(\"ignore\")"
   ]
  },
  {
   "cell_type": "code",
   "execution_count": 2,
   "metadata": {
    "slideshow": {
     "slide_type": "skip"
    }
   },
   "outputs": [],
   "source": [
    "# load in the dataset into a pandas dataframe\n",
    "df = pd.read_csv('2017-fordgobike-tripdata.csv')"
   ]
  },
  {
   "cell_type": "code",
   "execution_count": 3,
   "metadata": {
    "slideshow": {
     "slide_type": "skip"
    }
   },
   "outputs": [
    {
     "data": {
      "text/html": [
       "<div>\n",
       "<style scoped>\n",
       "    .dataframe tbody tr th:only-of-type {\n",
       "        vertical-align: middle;\n",
       "    }\n",
       "\n",
       "    .dataframe tbody tr th {\n",
       "        vertical-align: top;\n",
       "    }\n",
       "\n",
       "    .dataframe thead th {\n",
       "        text-align: right;\n",
       "    }\n",
       "</style>\n",
       "<table border=\"1\" class=\"dataframe\">\n",
       "  <thead>\n",
       "    <tr style=\"text-align: right;\">\n",
       "      <th></th>\n",
       "      <th>duration_sec</th>\n",
       "      <th>start_time</th>\n",
       "      <th>end_time</th>\n",
       "      <th>start_station_id</th>\n",
       "      <th>start_station_name</th>\n",
       "      <th>start_station_latitude</th>\n",
       "      <th>start_station_longitude</th>\n",
       "      <th>end_station_id</th>\n",
       "      <th>end_station_name</th>\n",
       "      <th>end_station_latitude</th>\n",
       "      <th>end_station_longitude</th>\n",
       "      <th>bike_id</th>\n",
       "      <th>user_type</th>\n",
       "      <th>duration_min</th>\n",
       "      <th>start_date</th>\n",
       "      <th>start_hour_of_day</th>\n",
       "      <th>start_day_of_week</th>\n",
       "      <th>start_month</th>\n",
       "    </tr>\n",
       "  </thead>\n",
       "  <tbody>\n",
       "    <tr>\n",
       "      <th>0</th>\n",
       "      <td>80110</td>\n",
       "      <td>2017-12-31 16:57:39.654</td>\n",
       "      <td>2018-01-01 15:12:50.245</td>\n",
       "      <td>74</td>\n",
       "      <td>Laguna St at Hayes St</td>\n",
       "      <td>37.776435</td>\n",
       "      <td>-122.426244</td>\n",
       "      <td>43</td>\n",
       "      <td>San Francisco Public Library (Grove St at Hyde...</td>\n",
       "      <td>37.778768</td>\n",
       "      <td>-122.415929</td>\n",
       "      <td>96.0</td>\n",
       "      <td>Customer</td>\n",
       "      <td>1335.166667</td>\n",
       "      <td>2017-12-31</td>\n",
       "      <td>16</td>\n",
       "      <td>Sunday</td>\n",
       "      <td>December</td>\n",
       "    </tr>\n",
       "    <tr>\n",
       "      <th>1</th>\n",
       "      <td>78800</td>\n",
       "      <td>2017-12-31 15:56:34.842</td>\n",
       "      <td>2018-01-01 13:49:55.617</td>\n",
       "      <td>284</td>\n",
       "      <td>Yerba Buena Center for the Arts (Howard St at ...</td>\n",
       "      <td>37.784872</td>\n",
       "      <td>-122.400876</td>\n",
       "      <td>96</td>\n",
       "      <td>Dolores St at 15th St</td>\n",
       "      <td>37.766210</td>\n",
       "      <td>-122.426614</td>\n",
       "      <td>88.0</td>\n",
       "      <td>Customer</td>\n",
       "      <td>1313.333333</td>\n",
       "      <td>2017-12-31</td>\n",
       "      <td>15</td>\n",
       "      <td>Sunday</td>\n",
       "      <td>December</td>\n",
       "    </tr>\n",
       "    <tr>\n",
       "      <th>2</th>\n",
       "      <td>45768</td>\n",
       "      <td>2017-12-31 22:45:48.411</td>\n",
       "      <td>2018-01-01 11:28:36.883</td>\n",
       "      <td>245</td>\n",
       "      <td>Downtown Berkeley BART</td>\n",
       "      <td>37.870348</td>\n",
       "      <td>-122.267764</td>\n",
       "      <td>245</td>\n",
       "      <td>Downtown Berkeley BART</td>\n",
       "      <td>37.870348</td>\n",
       "      <td>-122.267764</td>\n",
       "      <td>1094.0</td>\n",
       "      <td>Customer</td>\n",
       "      <td>762.800000</td>\n",
       "      <td>2017-12-31</td>\n",
       "      <td>22</td>\n",
       "      <td>Sunday</td>\n",
       "      <td>December</td>\n",
       "    </tr>\n",
       "    <tr>\n",
       "      <th>3</th>\n",
       "      <td>62172</td>\n",
       "      <td>2017-12-31 17:31:10.636</td>\n",
       "      <td>2018-01-01 10:47:23.531</td>\n",
       "      <td>60</td>\n",
       "      <td>8th St at Ringold St</td>\n",
       "      <td>37.774520</td>\n",
       "      <td>-122.409449</td>\n",
       "      <td>5</td>\n",
       "      <td>Powell St BART Station (Market St at 5th St)</td>\n",
       "      <td>37.783899</td>\n",
       "      <td>-122.408445</td>\n",
       "      <td>2831.0</td>\n",
       "      <td>Customer</td>\n",
       "      <td>1036.200000</td>\n",
       "      <td>2017-12-31</td>\n",
       "      <td>17</td>\n",
       "      <td>Sunday</td>\n",
       "      <td>December</td>\n",
       "    </tr>\n",
       "    <tr>\n",
       "      <th>4</th>\n",
       "      <td>43603</td>\n",
       "      <td>2017-12-31 14:23:14.001</td>\n",
       "      <td>2018-01-01 02:29:57.571</td>\n",
       "      <td>239</td>\n",
       "      <td>Bancroft Way at Telegraph Ave</td>\n",
       "      <td>37.868813</td>\n",
       "      <td>-122.258764</td>\n",
       "      <td>247</td>\n",
       "      <td>Fulton St at Bancroft Way</td>\n",
       "      <td>37.867789</td>\n",
       "      <td>-122.265896</td>\n",
       "      <td>3167.0</td>\n",
       "      <td>Subscriber</td>\n",
       "      <td>726.716667</td>\n",
       "      <td>2017-12-31</td>\n",
       "      <td>14</td>\n",
       "      <td>Sunday</td>\n",
       "      <td>December</td>\n",
       "    </tr>\n",
       "  </tbody>\n",
       "</table>\n",
       "</div>"
      ],
      "text/plain": [
       "   duration_sec               start_time                 end_time  \\\n",
       "0         80110  2017-12-31 16:57:39.654  2018-01-01 15:12:50.245   \n",
       "1         78800  2017-12-31 15:56:34.842  2018-01-01 13:49:55.617   \n",
       "2         45768  2017-12-31 22:45:48.411  2018-01-01 11:28:36.883   \n",
       "3         62172  2017-12-31 17:31:10.636  2018-01-01 10:47:23.531   \n",
       "4         43603  2017-12-31 14:23:14.001  2018-01-01 02:29:57.571   \n",
       "\n",
       "   start_station_id                                 start_station_name  \\\n",
       "0                74                              Laguna St at Hayes St   \n",
       "1               284  Yerba Buena Center for the Arts (Howard St at ...   \n",
       "2               245                             Downtown Berkeley BART   \n",
       "3                60                               8th St at Ringold St   \n",
       "4               239                      Bancroft Way at Telegraph Ave   \n",
       "\n",
       "   start_station_latitude  start_station_longitude  end_station_id  \\\n",
       "0               37.776435              -122.426244              43   \n",
       "1               37.784872              -122.400876              96   \n",
       "2               37.870348              -122.267764             245   \n",
       "3               37.774520              -122.409449               5   \n",
       "4               37.868813              -122.258764             247   \n",
       "\n",
       "                                    end_station_name  end_station_latitude  \\\n",
       "0  San Francisco Public Library (Grove St at Hyde...             37.778768   \n",
       "1                              Dolores St at 15th St             37.766210   \n",
       "2                             Downtown Berkeley BART             37.870348   \n",
       "3       Powell St BART Station (Market St at 5th St)             37.783899   \n",
       "4                          Fulton St at Bancroft Way             37.867789   \n",
       "\n",
       "   end_station_longitude  bike_id   user_type  duration_min  start_date  \\\n",
       "0            -122.415929     96.0    Customer   1335.166667  2017-12-31   \n",
       "1            -122.426614     88.0    Customer   1313.333333  2017-12-31   \n",
       "2            -122.267764   1094.0    Customer    762.800000  2017-12-31   \n",
       "3            -122.408445   2831.0    Customer   1036.200000  2017-12-31   \n",
       "4            -122.265896   3167.0  Subscriber    726.716667  2017-12-31   \n",
       "\n",
       "   start_hour_of_day start_day_of_week start_month  \n",
       "0                 16            Sunday    December  \n",
       "1                 15            Sunday    December  \n",
       "2                 22            Sunday    December  \n",
       "3                 17            Sunday    December  \n",
       "4                 14            Sunday    December  "
      ]
     },
     "execution_count": 3,
     "metadata": {},
     "output_type": "execute_result"
    }
   ],
   "source": [
    "# Data cleaning\n",
    "\n",
    "# make copy of data\n",
    "df_clean = df.copy()\n",
    "\n",
    "df_clean.dropna(inplace=True)\n",
    "\n",
    "# convert datatype of start_time and end_time from object to datatime\n",
    "df_clean['start_time']=pd.to_datetime(df_clean['start_time'])\n",
    "df_clean['end_time'] = pd.to_datetime(df_clean['end_time'])\n",
    "\n",
    "#  convert datatype of start_station_id and end_station_id to int\n",
    "df_clean['start_station_id'] = df_clean['start_station_id'].astype('int')\n",
    "df_clean['end_station_id'] = df_clean['end_station_id'].astype('int')\n",
    "\n",
    "# convert datatype of user_type to category\n",
    "df_clean['user_type'] = df_clean['user_type'].astype('category')\n",
    "\n",
    "\n",
    "\n",
    "# Extract minute,day,week,month from the start_time\n",
    "df_clean['duration_min'] = df_clean['duration_sec']/60\n",
    "\n",
    "df_clean['start_date'] = df_clean.start_time.dt.strftime('%Y-%m-%d')\n",
    "df_clean['start_hour_of_day'] = df_clean.start_time.dt.strftime('%H')\n",
    "df_clean['start_day_of_week'] = df_clean.start_time.dt.strftime('%A')\n",
    "df_clean['start_month'] = df_clean.start_time.dt.strftime('%B')\n",
    "\n",
    "# save the cleaned data to csv file\n",
    "df_clean.to_csv('fordgobike-tripdata_clean.csv',index=None)\n",
    "\n",
    "main=pd.read_csv('fordgobike-tripdata_clean.csv')\n",
    "main.head()"
   ]
  },
  {
   "cell_type": "markdown",
   "metadata": {
    "slideshow": {
     "slide_type": "skip"
    }
   },
   "source": [
    "> Note that the above cells have been set as \"Skip\"-type slides. That means\n",
    "that when the notebook is rendered as http slides, those cells won't show up."
   ]
  },
  {
   "cell_type": "markdown",
   "metadata": {
    "slideshow": {
     "slide_type": "slide"
    }
   },
   "source": [
    "## Univariate Exploration of Trip Duration\n",
    "\n",
    "> Since most of the values seemed to lie below 4000, I removed the outliers. For this, I computed the Z score of each duration value and remove it if was below 3. That is, remove all values beyond two standard deviations."
   ]
  },
  {
   "cell_type": "code",
   "execution_count": 7,
   "metadata": {
    "slideshow": {
     "slide_type": "subslide"
    }
   },
   "outputs": [
    {
     "data": {
      "image/png": "[encoded data removed]",
      "text/plain": [
       "<matplotlib.figure.Figure at 0x7f71205e1ac8>"
      ]
     },
     "metadata": {
      "needs_background": "light"
     },
     "output_type": "display_data"
    }
   ],
   "source": [
    "# Removing the outliers\n",
    "main = main[(np.abs(stats.zscore(main.duration_sec)) < 3)]\n",
    "\n",
    "# Visualization\n",
    "graph = main.duration_sec\n",
    "plt.figure(figsize=[14.70, 8.27])\n",
    "plt.hist(graph,bins=1000);\n",
    "plt.title(\"Distribution of Duration\")\n",
    "plt.xlabel('Duration in Seconds')\n",
    "plt.ylabel('Count');"
   ]
  },
  {
   "cell_type": "markdown",
   "metadata": {
    "collapsed": true,
    "slideshow": {
     "slide_type": "slide"
    }
   },
   "source": [
    "## The effect of User Type on Trip Duration\n",
    "\n",
    "> This visualization represents the relationship between User Type and Trip Duration, indicating that regular users take lesser time to complete rides."
   ]
  },
  {
   "cell_type": "code",
   "execution_count": 9,
   "metadata": {
    "slideshow": {
     "slide_type": "skip"
    }
   },
   "outputs": [],
   "source": [
    "# Setting the base color\n",
    "base_color = sb.color_palette()[0]"
   ]
  },
  {
   "cell_type": "code",
   "execution_count": 11,
   "metadata": {
    "slideshow": {
     "slide_type": "subslide"
    }
   },
   "outputs": [
    {
     "data": {
      "image/png": "[encoded data removed]",
      "text/plain": [
       "<matplotlib.figure.Figure at 0x7f7118b608d0>"
      ]
     },
     "metadata": {
      "needs_background": "light"
     },
     "output_type": "display_data"
    }
   ],
   "source": [
    "# User Type and Duration\n",
    "plt.figure(figsize=[14.70, 8.27])\n",
    "sb.violinplot(data=main,x='user_type',y='duration_sec', color=base_color);\n",
    "plt.title(\"Duration by User Type\")\n",
    "plt.xlabel('User Type')\n",
    "plt.ylabel('Duration in Seconds');"
   ]
  },
  {
   "cell_type": "markdown",
   "metadata": {
    "slideshow": {
     "slide_type": "slide"
    }
   },
   "source": [
    "## How does the hourly usage vary during a week for customers and subscribers?\n",
    "> It is interesting, that customers tend to use the bike service mostly on Sunday from 12 PM to 4 PM, while subscribers will likely have a trip from Monday to Friday during rush hours (7-9 AM, 4 PM - 6 PM).\n"
   ]
  },
  {
   "cell_type": "code",
   "execution_count": 13,
   "metadata": {
    "slideshow": {
     "slide_type": "subslide"
    }
   },
   "outputs": [
    {
     "data": {
      "image/png": "[encoded data removed]",
      "text/plain": [
       "<matplotlib.figure.Figure at 0x7f7118128cf8>"
      ]
     },
     "metadata": {
      "needs_background": "light"
     },
     "output_type": "display_data"
    }
   ],
   "source": [
    "# Visualization\n",
    "plt.figure(figsize=[10, 10]);\n",
    "plt.suptitle('Hourly usage during a week for customers and subscribers', fontsize=16)\n",
    "\n",
    "plt.subplot(2, 1, 1)\n",
    "customers = main.query('user_type == \"Customer\"')\n",
    "ct_counts = customers.groupby(['start_day_of_week', 'start_hour_of_day']).size()\n",
    "ct_counts = ct_counts.reset_index(name='count')\n",
    "ct_counts = ct_counts.pivot(index='start_day_of_week', columns='start_hour_of_day', values='count')\n",
    "sb.heatmap(ct_counts, cmap=\"Blues\");\n",
    "plt.title('Customer', loc='right', fontsize=14);\n",
    "plt.xlabel('Hour of day', fontsize=14);\n",
    "plt.ylabel('Day of week', fontsize=14);\n",
    "\n",
    "plt.subplot(2, 1, 2)\n",
    "subscribers = main.query('user_type == \"Subscriber\"')\n",
    "st_counts = subscribers.groupby(['start_day_of_week', 'start_hour_of_day']).size()\n",
    "st_counts = st_counts.reset_index(name='count')\n",
    "st_counts = st_counts.pivot(index='start_day_of_week', columns='start_hour_of_day', values='count')\n",
    "sb.heatmap(st_counts, cmap=\"Blues\");\n",
    "plt.title('Subscriber', loc='right', fontsize=14);\n",
    "plt.xlabel('Hour of day', fontsize=14);\n",
    "plt.ylabel('Day of week', fontsize=14);"
   ]
  },
  {
   "cell_type": "markdown",
   "metadata": {
    "slideshow": {
     "slide_type": "slide"
    }
   },
   "source": [
    "\n",
    "## Conclusion\n",
    "\n",
    "  > There is a difference in usage patterns by day of week and hours for customers and subscribers.\n",
    "  > Relationship between User Type and Trip Duration, indicating that regular users take lesser time to complete rides.\n",
    "\n"
   ]
  },
  {
   "cell_type": "markdown",
   "metadata": {
    "slideshow": {
     "slide_type": "notes"
    }
   },
   "source": [
    "> Once you're ready to finish your presentation, check your output by using\n",
    "nbconvert to export the notebook and set up a server for the slides. From the\n",
    "terminal or command line, use the following expression:\n",
    "> > `jupyter nbconvert slide_deck_template.ipynb --to slides --post serve --template output_toggle`\n",
    "\n",
    "> This should open a tab in your web browser where you can scroll through your\n",
    "presentation. Sub-slides can be accessed by pressing 'down' when viewing its parent\n",
    "slide. Make sure you remove all of the quote-formatted guide notes like this one\n",
    "before you finish your presentation!"
   ]
  },
  {
   "cell_type": "code",
   "execution_count": null,
   "metadata": {},
   "outputs": [],
   "source": []
  }
 ],
 "metadata": {
  "celltoolbar": "Slideshow",
  "kernelspec": {
   "display_name": "Python 3",
   "language": "python",
   "name": "python3"
  },
  "language_info": {
   "codemirror_mode": {
    "name": "ipython",
    "version": 3
   },
   "file_extension": ".py",
   "mimetype": "text/x-python",
   "name": "python",
   "nbconvert_exporter": "python",
   "pygments_lexer": "ipython3",
   "version": "3.6.3"
  }
 },
 "nbformat": 4,
 "nbformat_minor": 2
}
