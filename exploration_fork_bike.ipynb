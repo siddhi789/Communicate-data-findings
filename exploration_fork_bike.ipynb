{
 "cells": [
  {
   "cell_type": "markdown",
   "metadata": {},
   "source": [
    "\n",
    "# Project: Communicate Data Findings (2017-fordgobike-tripdata)  \n",
    "\n",
    "## by Sidhi Agarwal\n",
    "\n",
    "### Introduction\n",
    "\n",
    "This project has two parts that demonstrate the importance and value of data visualization techniques in the data analysis process.\n",
    "\n",
    "This is the first part, here I will use Python visualization libraries to systematically explore a 2017-fordgobike-tripdata, starting from plots of single variables and building up to plots of multiple variables.\n",
    "\n",
    "In the second part, I will produce a short presentation that illustrates interesting properties, trends, and relationships that you discovered in your selected dataset.(Provided in another file)\n",
    "\n",
    "### Table of Contents\n",
    "\n",
    " - Introduction\n",
    " - Data Gathering\n",
    " - Data Assessing\n",
    " - Data Cleaning\n",
    " - Data Exploration and Analysis\n",
    " - Conclusion\n",
    "\n",
    "### Data Gathering\n",
    "\n",
    "  - Ford GoBike is a regional public bike sharing system in San Francisco Bay Area, California. Bay Wheels is the first regional and large-scale bicycle sharing system deployed in California and on the West Coast of the United States with nearly 500,000 rides since the launch in 2017 and had about 10,000 annual subscribers as of January 2018. The dataset used for this exploratory analysis consists of Bay Wheels's trip data for public use for March 2020, which you can find here.\n",
    "\n",
    "- This data set includes information about individual rides made in a bike-sharing system covering the greater San Francisco Bay area from  November, 2017 to December, 2017. <a href=\"https://www.lyft.com/bikes/bay-wheels\">Click</a>\n"
   ]
  },
  {
   "cell_type": "code",
   "execution_count": 42,
   "metadata": {},
   "outputs": [],
   "source": [
    "# import all packages and set plots to be embedded inline\n",
    "import numpy as np\n",
    "import pandas as pd\n",
    "import matplotlib.pyplot as plt\n",
    "import seaborn as sb\n",
    "\n",
    "%matplotlib inline"
   ]
  },
  {
   "cell_type": "markdown",
   "metadata": {},
   "source": [
    "## Data Gathering"
   ]
  },
  {
   "cell_type": "code",
   "execution_count": 43,
   "metadata": {},
   "outputs": [],
   "source": [
    "# load dataset in dataframe\n",
    "df = pd.read_csv('2017-fordgobike-tripdata.csv')"
   ]
  },
  {
   "cell_type": "markdown",
   "metadata": {},
   "source": [
    "## Data Assessing"
   ]
  },
  {
   "cell_type": "code",
   "execution_count": 44,
   "metadata": {},
   "outputs": [
    {
     "data": {
      "text/html": [
       "<div>\n",
       "<style scoped>\n",
       "    .dataframe tbody tr th:only-of-type {\n",
       "        vertical-align: middle;\n",
       "    }\n",
       "\n",
       "    .dataframe tbody tr th {\n",
       "        vertical-align: top;\n",
       "    }\n",
       "\n",
       "    .dataframe thead th {\n",
       "        text-align: right;\n",
       "    }\n",
       "</style>\n",
       "<table border=\"1\" class=\"dataframe\">\n",
       "  <thead>\n",
       "    <tr style=\"text-align: right;\">\n",
       "      <th></th>\n",
       "      <th>duration_sec</th>\n",
       "      <th>start_time</th>\n",
       "      <th>end_time</th>\n",
       "      <th>start_station_id</th>\n",
       "      <th>start_station_name</th>\n",
       "      <th>start_station_latitude</th>\n",
       "      <th>start_station_longitude</th>\n",
       "      <th>end_station_id</th>\n",
       "      <th>end_station_name</th>\n",
       "      <th>end_station_latitude</th>\n",
       "      <th>end_station_longitude</th>\n",
       "      <th>bike_id</th>\n",
       "      <th>user_type</th>\n",
       "    </tr>\n",
       "  </thead>\n",
       "  <tbody>\n",
       "    <tr>\n",
       "      <th>0</th>\n",
       "      <td>80110</td>\n",
       "      <td>2017-12-31 16:57:39.6540</td>\n",
       "      <td>2018-01-01 15:12:50.2450</td>\n",
       "      <td>74</td>\n",
       "      <td>Laguna St at Hayes St</td>\n",
       "      <td>37.776435</td>\n",
       "      <td>-122.426244</td>\n",
       "      <td>43</td>\n",
       "      <td>San Francisco Public Library (Grove St at Hyde...</td>\n",
       "      <td>37.778768</td>\n",
       "      <td>-122.415929</td>\n",
       "      <td>96.0</td>\n",
       "      <td>Customer</td>\n",
       "    </tr>\n",
       "    <tr>\n",
       "      <th>1</th>\n",
       "      <td>78800</td>\n",
       "      <td>2017-12-31 15:56:34.8420</td>\n",
       "      <td>2018-01-01 13:49:55.6170</td>\n",
       "      <td>284</td>\n",
       "      <td>Yerba Buena Center for the Arts (Howard St at ...</td>\n",
       "      <td>37.784872</td>\n",
       "      <td>-122.400876</td>\n",
       "      <td>96</td>\n",
       "      <td>Dolores St at 15th St</td>\n",
       "      <td>37.766210</td>\n",
       "      <td>-122.426614</td>\n",
       "      <td>88.0</td>\n",
       "      <td>Customer</td>\n",
       "    </tr>\n",
       "    <tr>\n",
       "      <th>2</th>\n",
       "      <td>45768</td>\n",
       "      <td>2017-12-31 22:45:48.4110</td>\n",
       "      <td>2018-01-01 11:28:36.8830</td>\n",
       "      <td>245</td>\n",
       "      <td>Downtown Berkeley BART</td>\n",
       "      <td>37.870348</td>\n",
       "      <td>-122.267764</td>\n",
       "      <td>245</td>\n",
       "      <td>Downtown Berkeley BART</td>\n",
       "      <td>37.870348</td>\n",
       "      <td>-122.267764</td>\n",
       "      <td>1094.0</td>\n",
       "      <td>Customer</td>\n",
       "    </tr>\n",
       "    <tr>\n",
       "      <th>3</th>\n",
       "      <td>62172</td>\n",
       "      <td>2017-12-31 17:31:10.6360</td>\n",
       "      <td>2018-01-01 10:47:23.5310</td>\n",
       "      <td>60</td>\n",
       "      <td>8th St at Ringold St</td>\n",
       "      <td>37.774520</td>\n",
       "      <td>-122.409449</td>\n",
       "      <td>5</td>\n",
       "      <td>Powell St BART Station (Market St at 5th St)</td>\n",
       "      <td>37.783899</td>\n",
       "      <td>-122.408445</td>\n",
       "      <td>2831.0</td>\n",
       "      <td>Customer</td>\n",
       "    </tr>\n",
       "    <tr>\n",
       "      <th>4</th>\n",
       "      <td>43603</td>\n",
       "      <td>2017-12-31 14:23:14.0010</td>\n",
       "      <td>2018-01-01 02:29:57.5710</td>\n",
       "      <td>239</td>\n",
       "      <td>Bancroft Way at Telegraph Ave</td>\n",
       "      <td>37.868813</td>\n",
       "      <td>-122.258764</td>\n",
       "      <td>247</td>\n",
       "      <td>Fulton St at Bancroft Way</td>\n",
       "      <td>37.867789</td>\n",
       "      <td>-122.265896</td>\n",
       "      <td>3167.0</td>\n",
       "      <td>Subscriber</td>\n",
       "    </tr>\n",
       "  </tbody>\n",
       "</table>\n",
       "</div>"
      ],
      "text/plain": [
       "   duration_sec                start_time                  end_time  \\\n",
       "0         80110  2017-12-31 16:57:39.6540  2018-01-01 15:12:50.2450   \n",
       "1         78800  2017-12-31 15:56:34.8420  2018-01-01 13:49:55.6170   \n",
       "2         45768  2017-12-31 22:45:48.4110  2018-01-01 11:28:36.8830   \n",
       "3         62172  2017-12-31 17:31:10.6360  2018-01-01 10:47:23.5310   \n",
       "4         43603  2017-12-31 14:23:14.0010  2018-01-01 02:29:57.5710   \n",
       "\n",
       "   start_station_id                                 start_station_name  \\\n",
       "0                74                              Laguna St at Hayes St   \n",
       "1               284  Yerba Buena Center for the Arts (Howard St at ...   \n",
       "2               245                             Downtown Berkeley BART   \n",
       "3                60                               8th St at Ringold St   \n",
       "4               239                      Bancroft Way at Telegraph Ave   \n",
       "\n",
       "   start_station_latitude  start_station_longitude  end_station_id  \\\n",
       "0               37.776435              -122.426244              43   \n",
       "1               37.784872              -122.400876              96   \n",
       "2               37.870348              -122.267764             245   \n",
       "3               37.774520              -122.409449               5   \n",
       "4               37.868813              -122.258764             247   \n",
       "\n",
       "                                    end_station_name  end_station_latitude  \\\n",
       "0  San Francisco Public Library (Grove St at Hyde...             37.778768   \n",
       "1                              Dolores St at 15th St             37.766210   \n",
       "2                             Downtown Berkeley BART             37.870348   \n",
       "3       Powell St BART Station (Market St at 5th St)             37.783899   \n",
       "4                          Fulton St at Bancroft Way             37.867789   \n",
       "\n",
       "   end_station_longitude  bike_id   user_type  \n",
       "0            -122.415929     96.0    Customer  \n",
       "1            -122.426614     88.0    Customer  \n",
       "2            -122.267764   1094.0    Customer  \n",
       "3            -122.408445   2831.0    Customer  \n",
       "4            -122.265896   3167.0  Subscriber  "
      ]
     },
     "execution_count": 44,
     "metadata": {},
     "output_type": "execute_result"
    }
   ],
   "source": [
    "df.head()"
   ]
  },
  {
   "cell_type": "code",
   "execution_count": 45,
   "metadata": {
    "scrolled": true
   },
   "outputs": [
    {
     "name": "stdout",
     "output_type": "stream",
     "text": [
      "<class 'pandas.core.frame.DataFrame'>\n",
      "RangeIndex: 155686 entries, 0 to 155685\n",
      "Data columns (total 13 columns):\n",
      "duration_sec               155686 non-null int64\n",
      "start_time                 155686 non-null object\n",
      "end_time                   155686 non-null object\n",
      "start_station_id           155686 non-null int64\n",
      "start_station_name         155686 non-null object\n",
      "start_station_latitude     155686 non-null float64\n",
      "start_station_longitude    155686 non-null float64\n",
      "end_station_id             155686 non-null int64\n",
      "end_station_name           155686 non-null object\n",
      "end_station_latitude       155685 non-null float64\n",
      "end_station_longitude      155685 non-null float64\n",
      "bike_id                    155685 non-null float64\n",
      "user_type                  155685 non-null object\n",
      "dtypes: float64(5), int64(3), object(5)\n",
      "memory usage: 15.4+ MB\n"
     ]
    }
   ],
   "source": [
    "df.info()"
   ]
  },
  {
   "cell_type": "code",
   "execution_count": 46,
   "metadata": {},
   "outputs": [
    {
     "data": {
      "text/plain": [
       "(155686, 13)"
      ]
     },
     "execution_count": 46,
     "metadata": {},
     "output_type": "execute_result"
    }
   ],
   "source": [
    "df.shape"
   ]
  },
  {
   "cell_type": "code",
   "execution_count": 47,
   "metadata": {},
   "outputs": [
    {
     "data": {
      "text/html": [
       "<div>\n",
       "<style scoped>\n",
       "    .dataframe tbody tr th:only-of-type {\n",
       "        vertical-align: middle;\n",
       "    }\n",
       "\n",
       "    .dataframe tbody tr th {\n",
       "        vertical-align: top;\n",
       "    }\n",
       "\n",
       "    .dataframe thead th {\n",
       "        text-align: right;\n",
       "    }\n",
       "</style>\n",
       "<table border=\"1\" class=\"dataframe\">\n",
       "  <thead>\n",
       "    <tr style=\"text-align: right;\">\n",
       "      <th></th>\n",
       "      <th>duration_sec</th>\n",
       "      <th>start_station_id</th>\n",
       "      <th>start_station_latitude</th>\n",
       "      <th>start_station_longitude</th>\n",
       "      <th>end_station_id</th>\n",
       "      <th>end_station_latitude</th>\n",
       "      <th>end_station_longitude</th>\n",
       "      <th>bike_id</th>\n",
       "    </tr>\n",
       "  </thead>\n",
       "  <tbody>\n",
       "    <tr>\n",
       "      <th>count</th>\n",
       "      <td>155686.000000</td>\n",
       "      <td>155686.000000</td>\n",
       "      <td>155686.000000</td>\n",
       "      <td>155686.000000</td>\n",
       "      <td>155686.000000</td>\n",
       "      <td>155685.000000</td>\n",
       "      <td>155685.000000</td>\n",
       "      <td>155685.000000</td>\n",
       "    </tr>\n",
       "    <tr>\n",
       "      <th>mean</th>\n",
       "      <td>950.053479</td>\n",
       "      <td>102.259696</td>\n",
       "      <td>37.766216</td>\n",
       "      <td>-122.357491</td>\n",
       "      <td>99.564103</td>\n",
       "      <td>37.766501</td>\n",
       "      <td>-122.356609</td>\n",
       "      <td>1864.618011</td>\n",
       "    </tr>\n",
       "    <tr>\n",
       "      <th>std</th>\n",
       "      <td>2998.245882</td>\n",
       "      <td>87.441625</td>\n",
       "      <td>0.098268</td>\n",
       "      <td>0.117429</td>\n",
       "      <td>86.873426</td>\n",
       "      <td>0.098174</td>\n",
       "      <td>0.116832</td>\n",
       "      <td>1019.861317</td>\n",
       "    </tr>\n",
       "    <tr>\n",
       "      <th>min</th>\n",
       "      <td>61.000000</td>\n",
       "      <td>3.000000</td>\n",
       "      <td>37.317298</td>\n",
       "      <td>-122.444293</td>\n",
       "      <td>3.000000</td>\n",
       "      <td>37.317298</td>\n",
       "      <td>-122.444293</td>\n",
       "      <td>10.000000</td>\n",
       "    </tr>\n",
       "    <tr>\n",
       "      <th>25%</th>\n",
       "      <td>366.000000</td>\n",
       "      <td>28.000000</td>\n",
       "      <td>37.771058</td>\n",
       "      <td>-122.412544</td>\n",
       "      <td>26.000000</td>\n",
       "      <td>37.771662</td>\n",
       "      <td>-122.411403</td>\n",
       "      <td>1014.000000</td>\n",
       "    </tr>\n",
       "    <tr>\n",
       "      <th>50%</th>\n",
       "      <td>572.000000</td>\n",
       "      <td>77.000000</td>\n",
       "      <td>37.781270</td>\n",
       "      <td>-122.399018</td>\n",
       "      <td>75.000000</td>\n",
       "      <td>37.781752</td>\n",
       "      <td>-122.398773</td>\n",
       "      <td>1967.000000</td>\n",
       "    </tr>\n",
       "    <tr>\n",
       "      <th>75%</th>\n",
       "      <td>886.000000</td>\n",
       "      <td>154.000000</td>\n",
       "      <td>37.795392</td>\n",
       "      <td>-122.390648</td>\n",
       "      <td>150.000000</td>\n",
       "      <td>37.795392</td>\n",
       "      <td>-122.390648</td>\n",
       "      <td>2762.000000</td>\n",
       "    </tr>\n",
       "    <tr>\n",
       "      <th>max</th>\n",
       "      <td>86369.000000</td>\n",
       "      <td>340.000000</td>\n",
       "      <td>37.880222</td>\n",
       "      <td>-121.874119</td>\n",
       "      <td>340.000000</td>\n",
       "      <td>37.880222</td>\n",
       "      <td>-121.874119</td>\n",
       "      <td>3733.000000</td>\n",
       "    </tr>\n",
       "  </tbody>\n",
       "</table>\n",
       "</div>"
      ],
      "text/plain": [
       "        duration_sec  start_station_id  start_station_latitude  \\\n",
       "count  155686.000000     155686.000000           155686.000000   \n",
       "mean      950.053479        102.259696               37.766216   \n",
       "std      2998.245882         87.441625                0.098268   \n",
       "min        61.000000          3.000000               37.317298   \n",
       "25%       366.000000         28.000000               37.771058   \n",
       "50%       572.000000         77.000000               37.781270   \n",
       "75%       886.000000        154.000000               37.795392   \n",
       "max     86369.000000        340.000000               37.880222   \n",
       "\n",
       "       start_station_longitude  end_station_id  end_station_latitude  \\\n",
       "count            155686.000000   155686.000000         155685.000000   \n",
       "mean               -122.357491       99.564103             37.766501   \n",
       "std                   0.117429       86.873426              0.098174   \n",
       "min                -122.444293        3.000000             37.317298   \n",
       "25%                -122.412544       26.000000             37.771662   \n",
       "50%                -122.399018       75.000000             37.781752   \n",
       "75%                -122.390648      150.000000             37.795392   \n",
       "max                -121.874119      340.000000             37.880222   \n",
       "\n",
       "       end_station_longitude        bike_id  \n",
       "count          155685.000000  155685.000000  \n",
       "mean             -122.356609    1864.618011  \n",
       "std                 0.116832    1019.861317  \n",
       "min              -122.444293      10.000000  \n",
       "25%              -122.411403    1014.000000  \n",
       "50%              -122.398773    1967.000000  \n",
       "75%              -122.390648    2762.000000  \n",
       "max              -121.874119    3733.000000  "
      ]
     },
     "execution_count": 47,
     "metadata": {},
     "output_type": "execute_result"
    }
   ],
   "source": [
    "df.describe()"
   ]
  },
  {
   "cell_type": "code",
   "execution_count": 48,
   "metadata": {},
   "outputs": [
    {
     "data": {
      "text/plain": [
       "0"
      ]
     },
     "execution_count": 48,
     "metadata": {},
     "output_type": "execute_result"
    }
   ],
   "source": [
    "df.duplicated().sum()"
   ]
  },
  {
   "cell_type": "code",
   "execution_count": 49,
   "metadata": {},
   "outputs": [
    {
     "data": {
      "text/plain": [
       "Subscriber    130772\n",
       "Customer       24913\n",
       "Name: user_type, dtype: int64"
      ]
     },
     "execution_count": 49,
     "metadata": {},
     "output_type": "execute_result"
    }
   ],
   "source": [
    "df.user_type.value_counts()"
   ]
  },
  {
   "cell_type": "code",
   "execution_count": 50,
   "metadata": {},
   "outputs": [
    {
     "data": {
      "text/plain": [
       "duration_sec               0\n",
       "start_time                 0\n",
       "end_time                   0\n",
       "start_station_id           0\n",
       "start_station_name         0\n",
       "start_station_latitude     0\n",
       "start_station_longitude    0\n",
       "end_station_id             0\n",
       "end_station_name           0\n",
       "end_station_latitude       1\n",
       "end_station_longitude      1\n",
       "bike_id                    1\n",
       "user_type                  1\n",
       "dtype: int64"
      ]
     },
     "execution_count": 50,
     "metadata": {},
     "output_type": "execute_result"
    }
   ],
   "source": [
    "#Checking for missing values using isnull()\n",
    "df.isnull().sum()"
   ]
  },
  {
   "cell_type": "markdown",
   "metadata": {},
   "source": [
    "### There are some data quality issues such as\n",
    "\n",
    "- start_time and end_time columns are in string format instead of datetime format\n",
    "- bike_id are in int format instead of object format\n",
    "- user_type is in string format. Can be transformed into categorical variable"
   ]
  },
  {
   "cell_type": "markdown",
   "metadata": {},
   "source": [
    "## What is the structure of your dataset?\n",
    "\n",
    "   ### Each trip is anonymized and includes:\n",
    "\n",
    "- Trip Duration (seconds)\n",
    "- Start Time and Date\n",
    "- End Time and Date\n",
    "- Start Station ID\n",
    "- Start Station Name\n",
    "- Start Station Latitude\n",
    "- Start Station Longitude\n",
    "- End Station ID\n",
    "- End Station Name\n",
    "- End Station Latitude\n",
    "- End Station Longitude\n",
    "- Bike ID\n",
    "- User Type (Subscriber or Customer – “Subscriber” = Member or “Customer” = Casual)\n",
    "###### There are 155686 records and 13 columns\n",
    "\n",
    "### There are some data quality issues such as\n",
    "\n",
    "  - start_time and end_time columns are in string format instead of datetime format\n",
    "  - start_station_id, end_station_id are in float format instead of integer format\n",
    "  - user_type is in string format. Can be transformed into categorical variable"
   ]
  },
  {
   "cell_type": "markdown",
   "metadata": {},
   "source": [
    "## What is/are the main feature(s) of interest in your dataset?\n",
    "\n",
    "   - When are most trips taken in terms of time of day, day of the week, or month of the year?\n",
    "   - Does the average duration depend on if a user is a subscriber or customer?\n",
    "   - Does the average duration depend on if a user is a subscriber or customer?\n",
    "   \n",
    "    I would like to understand a bit about the patterns in terms of days in the week or in the year when rides are more frequent. Also to check at which time in the day is more common to have rides and also how all this relates with the user type.\n",
    "\n",
    "## What features in the dataset do you think will help support your investigation into your feature(s) of interest?\n",
    "\n",
    "   - Trip Duration\n",
    "   - Start TIme\n",
    "   - End Time\n",
    "   - User Type \n",
    "   \n",
    "\n"
   ]
  },
  {
   "cell_type": "code",
   "execution_count": 51,
   "metadata": {},
   "outputs": [],
   "source": [
    "# make copy of data\n",
    "df_clean = df.copy()"
   ]
  },
  {
   "cell_type": "markdown",
   "metadata": {},
   "source": [
    "### Define\n",
    "\n",
    "   1) convert data formats for start_time, end_time into correct datatype (from object to datetime)\n",
    "\n",
    "### Code"
   ]
  },
  {
   "cell_type": "code",
   "execution_count": 52,
   "metadata": {},
   "outputs": [],
   "source": [
    "# convert datatype of start_time and end_time from object to datatime\n",
    "df_clean['start_time']=pd.to_datetime(df_clean['start_time'])\n",
    "df_clean['end_time'] = pd.to_datetime(df_clean['end_time'])"
   ]
  },
  {
   "cell_type": "markdown",
   "metadata": {},
   "source": [
    "### TEST"
   ]
  },
  {
   "cell_type": "code",
   "execution_count": 53,
   "metadata": {},
   "outputs": [
    {
     "name": "stdout",
     "output_type": "stream",
     "text": [
      "<class 'pandas.core.frame.DataFrame'>\n",
      "RangeIndex: 155686 entries, 0 to 155685\n",
      "Data columns (total 13 columns):\n",
      "duration_sec               155686 non-null int64\n",
      "start_time                 155686 non-null datetime64[ns]\n",
      "end_time                   155686 non-null datetime64[ns]\n",
      "start_station_id           155686 non-null int64\n",
      "start_station_name         155686 non-null object\n",
      "start_station_latitude     155686 non-null float64\n",
      "start_station_longitude    155686 non-null float64\n",
      "end_station_id             155686 non-null int64\n",
      "end_station_name           155686 non-null object\n",
      "end_station_latitude       155685 non-null float64\n",
      "end_station_longitude      155685 non-null float64\n",
      "bike_id                    155685 non-null float64\n",
      "user_type                  155685 non-null object\n",
      "dtypes: datetime64[ns](2), float64(5), int64(3), object(3)\n",
      "memory usage: 15.4+ MB\n"
     ]
    }
   ],
   "source": [
    "df_clean.info()"
   ]
  },
  {
   "cell_type": "markdown",
   "metadata": {},
   "source": [
    "### Define\n",
    "  2) convert data formats for start_station_id, end_station_id into correct one\n",
    "### Code"
   ]
  },
  {
   "cell_type": "code",
   "execution_count": 54,
   "metadata": {},
   "outputs": [],
   "source": [
    "#  convert datatype of start_station_id and end_station_id to int\n",
    "df_clean['start_station_id'] = df_clean['start_station_id'].astype('int')\n",
    "df_clean['end_station_id'] = df_clean['end_station_id'].astype('int')"
   ]
  },
  {
   "cell_type": "markdown",
   "metadata": {},
   "source": [
    "### TEST"
   ]
  },
  {
   "cell_type": "code",
   "execution_count": 55,
   "metadata": {},
   "outputs": [
    {
     "name": "stdout",
     "output_type": "stream",
     "text": [
      "<class 'pandas.core.frame.DataFrame'>\n",
      "RangeIndex: 155686 entries, 0 to 155685\n",
      "Data columns (total 13 columns):\n",
      "duration_sec               155686 non-null int64\n",
      "start_time                 155686 non-null datetime64[ns]\n",
      "end_time                   155686 non-null datetime64[ns]\n",
      "start_station_id           155686 non-null int64\n",
      "start_station_name         155686 non-null object\n",
      "start_station_latitude     155686 non-null float64\n",
      "start_station_longitude    155686 non-null float64\n",
      "end_station_id             155686 non-null int64\n",
      "end_station_name           155686 non-null object\n",
      "end_station_latitude       155685 non-null float64\n",
      "end_station_longitude      155685 non-null float64\n",
      "bike_id                    155685 non-null float64\n",
      "user_type                  155685 non-null object\n",
      "dtypes: datetime64[ns](2), float64(5), int64(3), object(3)\n",
      "memory usage: 15.4+ MB\n"
     ]
    }
   ],
   "source": [
    "df_clean.info()"
   ]
  },
  {
   "cell_type": "markdown",
   "metadata": {},
   "source": [
    "### Define\n",
    "\n",
    "   3) convert data formats for user_type columns into correct one\n",
    "\n",
    "### Code"
   ]
  },
  {
   "cell_type": "code",
   "execution_count": 56,
   "metadata": {},
   "outputs": [],
   "source": [
    "# convert datatype of user_type to category\n",
    "df_clean['user_type'] = df_clean['user_type'].astype('category')"
   ]
  },
  {
   "cell_type": "markdown",
   "metadata": {},
   "source": [
    "### TEST"
   ]
  },
  {
   "cell_type": "code",
   "execution_count": 57,
   "metadata": {},
   "outputs": [
    {
     "name": "stdout",
     "output_type": "stream",
     "text": [
      "<class 'pandas.core.frame.DataFrame'>\n",
      "RangeIndex: 155686 entries, 0 to 155685\n",
      "Data columns (total 13 columns):\n",
      "duration_sec               155686 non-null int64\n",
      "start_time                 155686 non-null datetime64[ns]\n",
      "end_time                   155686 non-null datetime64[ns]\n",
      "start_station_id           155686 non-null int64\n",
      "start_station_name         155686 non-null object\n",
      "start_station_latitude     155686 non-null float64\n",
      "start_station_longitude    155686 non-null float64\n",
      "end_station_id             155686 non-null int64\n",
      "end_station_name           155686 non-null object\n",
      "end_station_latitude       155685 non-null float64\n",
      "end_station_longitude      155685 non-null float64\n",
      "bike_id                    155685 non-null float64\n",
      "user_type                  155685 non-null category\n",
      "dtypes: category(1), datetime64[ns](2), float64(5), int64(3), object(2)\n",
      "memory usage: 14.4+ MB\n"
     ]
    }
   ],
   "source": [
    "df_clean.info()"
   ]
  },
  {
   "cell_type": "markdown",
   "metadata": {},
   "source": [
    "### Define\n",
    "3) convert data formats for user_type columns into correct one\n",
    "### Code"
   ]
  },
  {
   "cell_type": "code",
   "execution_count": 58,
   "metadata": {},
   "outputs": [],
   "source": [
    "# convert datatype of bike_id to object\n",
    "df_clean['bike_id'] = df_clean['bike_id'].astype('object')"
   ]
  },
  {
   "cell_type": "markdown",
   "metadata": {},
   "source": [
    "### TEST"
   ]
  },
  {
   "cell_type": "code",
   "execution_count": 59,
   "metadata": {},
   "outputs": [
    {
     "name": "stdout",
     "output_type": "stream",
     "text": [
      "<class 'pandas.core.frame.DataFrame'>\n",
      "RangeIndex: 155686 entries, 0 to 155685\n",
      "Data columns (total 13 columns):\n",
      "duration_sec               155686 non-null int64\n",
      "start_time                 155686 non-null datetime64[ns]\n",
      "end_time                   155686 non-null datetime64[ns]\n",
      "start_station_id           155686 non-null int64\n",
      "start_station_name         155686 non-null object\n",
      "start_station_latitude     155686 non-null float64\n",
      "start_station_longitude    155686 non-null float64\n",
      "end_station_id             155686 non-null int64\n",
      "end_station_name           155686 non-null object\n",
      "end_station_latitude       155685 non-null float64\n",
      "end_station_longitude      155685 non-null float64\n",
      "bike_id                    155685 non-null object\n",
      "user_type                  155685 non-null category\n",
      "dtypes: category(1), datetime64[ns](2), float64(4), int64(3), object(3)\n",
      "memory usage: 14.4+ MB\n"
     ]
    }
   ],
   "source": [
    "df_clean.info()"
   ]
  },
  {
   "cell_type": "markdown",
   "metadata": {},
   "source": [
    "### Define\n",
    "   5) extract date,day of the week,month,minute,hour from the start_time\n",
    "### Code"
   ]
  },
  {
   "cell_type": "code",
   "execution_count": 60,
   "metadata": {},
   "outputs": [],
   "source": [
    "# Extract minute,day,week,month from the start_time\n",
    "df_clean['duration_min'] = df_clean['duration_sec']/60\n",
    "\n",
    "df_clean['start_date'] = df_clean.start_time.dt.strftime('%Y-%m-%d')\n",
    "df_clean['start_hour_of_day'] = df_clean.start_time.dt.strftime('%H')\n",
    "df_clean['start_day_of_week'] = df_clean.start_time.dt.strftime('%A')\n",
    "df_clean['start_month'] = df_clean.start_time.dt.strftime('%B')"
   ]
  },
  {
   "cell_type": "markdown",
   "metadata": {},
   "source": [
    "### TEST"
   ]
  },
  {
   "cell_type": "code",
   "execution_count": 61,
   "metadata": {},
   "outputs": [
    {
     "data": {
      "text/html": [
       "<div>\n",
       "<style scoped>\n",
       "    .dataframe tbody tr th:only-of-type {\n",
       "        vertical-align: middle;\n",
       "    }\n",
       "\n",
       "    .dataframe tbody tr th {\n",
       "        vertical-align: top;\n",
       "    }\n",
       "\n",
       "    .dataframe thead th {\n",
       "        text-align: right;\n",
       "    }\n",
       "</style>\n",
       "<table border=\"1\" class=\"dataframe\">\n",
       "  <thead>\n",
       "    <tr style=\"text-align: right;\">\n",
       "      <th></th>\n",
       "      <th>duration_sec</th>\n",
       "      <th>start_time</th>\n",
       "      <th>end_time</th>\n",
       "      <th>start_station_id</th>\n",
       "      <th>start_station_name</th>\n",
       "      <th>start_station_latitude</th>\n",
       "      <th>start_station_longitude</th>\n",
       "      <th>end_station_id</th>\n",
       "      <th>end_station_name</th>\n",
       "      <th>end_station_latitude</th>\n",
       "      <th>end_station_longitude</th>\n",
       "      <th>bike_id</th>\n",
       "      <th>user_type</th>\n",
       "      <th>duration_min</th>\n",
       "      <th>start_date</th>\n",
       "      <th>start_hour_of_day</th>\n",
       "      <th>start_day_of_week</th>\n",
       "      <th>start_month</th>\n",
       "    </tr>\n",
       "  </thead>\n",
       "  <tbody>\n",
       "    <tr>\n",
       "      <th>0</th>\n",
       "      <td>80110</td>\n",
       "      <td>2017-12-31 16:57:39.654</td>\n",
       "      <td>2018-01-01 15:12:50.245</td>\n",
       "      <td>74</td>\n",
       "      <td>Laguna St at Hayes St</td>\n",
       "      <td>37.776435</td>\n",
       "      <td>-122.426244</td>\n",
       "      <td>43</td>\n",
       "      <td>San Francisco Public Library (Grove St at Hyde...</td>\n",
       "      <td>37.778768</td>\n",
       "      <td>-122.415929</td>\n",
       "      <td>96</td>\n",
       "      <td>Customer</td>\n",
       "      <td>1335.166667</td>\n",
       "      <td>2017-12-31</td>\n",
       "      <td>16</td>\n",
       "      <td>Sunday</td>\n",
       "      <td>December</td>\n",
       "    </tr>\n",
       "    <tr>\n",
       "      <th>1</th>\n",
       "      <td>78800</td>\n",
       "      <td>2017-12-31 15:56:34.842</td>\n",
       "      <td>2018-01-01 13:49:55.617</td>\n",
       "      <td>284</td>\n",
       "      <td>Yerba Buena Center for the Arts (Howard St at ...</td>\n",
       "      <td>37.784872</td>\n",
       "      <td>-122.400876</td>\n",
       "      <td>96</td>\n",
       "      <td>Dolores St at 15th St</td>\n",
       "      <td>37.766210</td>\n",
       "      <td>-122.426614</td>\n",
       "      <td>88</td>\n",
       "      <td>Customer</td>\n",
       "      <td>1313.333333</td>\n",
       "      <td>2017-12-31</td>\n",
       "      <td>15</td>\n",
       "      <td>Sunday</td>\n",
       "      <td>December</td>\n",
       "    </tr>\n",
       "    <tr>\n",
       "      <th>2</th>\n",
       "      <td>45768</td>\n",
       "      <td>2017-12-31 22:45:48.411</td>\n",
       "      <td>2018-01-01 11:28:36.883</td>\n",
       "      <td>245</td>\n",
       "      <td>Downtown Berkeley BART</td>\n",
       "      <td>37.870348</td>\n",
       "      <td>-122.267764</td>\n",
       "      <td>245</td>\n",
       "      <td>Downtown Berkeley BART</td>\n",
       "      <td>37.870348</td>\n",
       "      <td>-122.267764</td>\n",
       "      <td>1094</td>\n",
       "      <td>Customer</td>\n",
       "      <td>762.800000</td>\n",
       "      <td>2017-12-31</td>\n",
       "      <td>22</td>\n",
       "      <td>Sunday</td>\n",
       "      <td>December</td>\n",
       "    </tr>\n",
       "    <tr>\n",
       "      <th>3</th>\n",
       "      <td>62172</td>\n",
       "      <td>2017-12-31 17:31:10.636</td>\n",
       "      <td>2018-01-01 10:47:23.531</td>\n",
       "      <td>60</td>\n",
       "      <td>8th St at Ringold St</td>\n",
       "      <td>37.774520</td>\n",
       "      <td>-122.409449</td>\n",
       "      <td>5</td>\n",
       "      <td>Powell St BART Station (Market St at 5th St)</td>\n",
       "      <td>37.783899</td>\n",
       "      <td>-122.408445</td>\n",
       "      <td>2831</td>\n",
       "      <td>Customer</td>\n",
       "      <td>1036.200000</td>\n",
       "      <td>2017-12-31</td>\n",
       "      <td>17</td>\n",
       "      <td>Sunday</td>\n",
       "      <td>December</td>\n",
       "    </tr>\n",
       "    <tr>\n",
       "      <th>4</th>\n",
       "      <td>43603</td>\n",
       "      <td>2017-12-31 14:23:14.001</td>\n",
       "      <td>2018-01-01 02:29:57.571</td>\n",
       "      <td>239</td>\n",
       "      <td>Bancroft Way at Telegraph Ave</td>\n",
       "      <td>37.868813</td>\n",
       "      <td>-122.258764</td>\n",
       "      <td>247</td>\n",
       "      <td>Fulton St at Bancroft Way</td>\n",
       "      <td>37.867789</td>\n",
       "      <td>-122.265896</td>\n",
       "      <td>3167</td>\n",
       "      <td>Subscriber</td>\n",
       "      <td>726.716667</td>\n",
       "      <td>2017-12-31</td>\n",
       "      <td>14</td>\n",
       "      <td>Sunday</td>\n",
       "      <td>December</td>\n",
       "    </tr>\n",
       "  </tbody>\n",
       "</table>\n",
       "</div>"
      ],
      "text/plain": [
       "   duration_sec              start_time                end_time  \\\n",
       "0         80110 2017-12-31 16:57:39.654 2018-01-01 15:12:50.245   \n",
       "1         78800 2017-12-31 15:56:34.842 2018-01-01 13:49:55.617   \n",
       "2         45768 2017-12-31 22:45:48.411 2018-01-01 11:28:36.883   \n",
       "3         62172 2017-12-31 17:31:10.636 2018-01-01 10:47:23.531   \n",
       "4         43603 2017-12-31 14:23:14.001 2018-01-01 02:29:57.571   \n",
       "\n",
       "   start_station_id                                 start_station_name  \\\n",
       "0                74                              Laguna St at Hayes St   \n",
       "1               284  Yerba Buena Center for the Arts (Howard St at ...   \n",
       "2               245                             Downtown Berkeley BART   \n",
       "3                60                               8th St at Ringold St   \n",
       "4               239                      Bancroft Way at Telegraph Ave   \n",
       "\n",
       "   start_station_latitude  start_station_longitude  end_station_id  \\\n",
       "0               37.776435              -122.426244              43   \n",
       "1               37.784872              -122.400876              96   \n",
       "2               37.870348              -122.267764             245   \n",
       "3               37.774520              -122.409449               5   \n",
       "4               37.868813              -122.258764             247   \n",
       "\n",
       "                                    end_station_name  end_station_latitude  \\\n",
       "0  San Francisco Public Library (Grove St at Hyde...             37.778768   \n",
       "1                              Dolores St at 15th St             37.766210   \n",
       "2                             Downtown Berkeley BART             37.870348   \n",
       "3       Powell St BART Station (Market St at 5th St)             37.783899   \n",
       "4                          Fulton St at Bancroft Way             37.867789   \n",
       "\n",
       "   end_station_longitude bike_id   user_type  duration_min  start_date  \\\n",
       "0            -122.415929      96    Customer   1335.166667  2017-12-31   \n",
       "1            -122.426614      88    Customer   1313.333333  2017-12-31   \n",
       "2            -122.267764    1094    Customer    762.800000  2017-12-31   \n",
       "3            -122.408445    2831    Customer   1036.200000  2017-12-31   \n",
       "4            -122.265896    3167  Subscriber    726.716667  2017-12-31   \n",
       "\n",
       "  start_hour_of_day start_day_of_week start_month  \n",
       "0                16            Sunday    December  \n",
       "1                15            Sunday    December  \n",
       "2                22            Sunday    December  \n",
       "3                17            Sunday    December  \n",
       "4                14            Sunday    December  "
      ]
     },
     "execution_count": 61,
     "metadata": {},
     "output_type": "execute_result"
    }
   ],
   "source": [
    "df_clean.head()"
   ]
  },
  {
   "cell_type": "code",
   "execution_count": 62,
   "metadata": {},
   "outputs": [
    {
     "name": "stdout",
     "output_type": "stream",
     "text": [
      "<class 'pandas.core.frame.DataFrame'>\n",
      "RangeIndex: 155686 entries, 0 to 155685\n",
      "Data columns (total 18 columns):\n",
      "duration_sec               155686 non-null int64\n",
      "start_time                 155686 non-null datetime64[ns]\n",
      "end_time                   155686 non-null datetime64[ns]\n",
      "start_station_id           155686 non-null int64\n",
      "start_station_name         155686 non-null object\n",
      "start_station_latitude     155686 non-null float64\n",
      "start_station_longitude    155686 non-null float64\n",
      "end_station_id             155686 non-null int64\n",
      "end_station_name           155686 non-null object\n",
      "end_station_latitude       155685 non-null float64\n",
      "end_station_longitude      155685 non-null float64\n",
      "bike_id                    155685 non-null object\n",
      "user_type                  155685 non-null category\n",
      "duration_min               155686 non-null float64\n",
      "start_date                 155686 non-null object\n",
      "start_hour_of_day          155686 non-null object\n",
      "start_day_of_week          155686 non-null object\n",
      "start_month                155686 non-null object\n",
      "dtypes: category(1), datetime64[ns](2), float64(5), int64(3), object(7)\n",
      "memory usage: 20.3+ MB\n"
     ]
    }
   ],
   "source": [
    "df_clean.info()"
   ]
  },
  {
   "cell_type": "code",
   "execution_count": 63,
   "metadata": {},
   "outputs": [
    {
     "data": {
      "text/plain": [
       "December    86539\n",
       "November    69147\n",
       "Name: start_month, dtype: int64"
      ]
     },
     "execution_count": 63,
     "metadata": {},
     "output_type": "execute_result"
    }
   ],
   "source": [
    "df_clean.start_month.value_counts()"
   ]
  },
  {
   "cell_type": "code",
   "execution_count": 64,
   "metadata": {},
   "outputs": [
    {
     "data": {
      "text/plain": [
       "2017-11-14    4487\n",
       "2017-12-06    4391\n",
       "2017-11-09    4367\n",
       "2017-12-05    4338\n",
       "2017-12-07    4330\n",
       "2017-12-11    4303\n",
       "2017-12-12    4275\n",
       "2017-11-29    4270\n",
       "2017-11-30    4265\n",
       "2017-12-13    4262\n",
       "2017-12-14    4229\n",
       "2017-11-28    4221\n",
       "2017-12-01    4124\n",
       "2017-12-04    4082\n",
       "2017-11-20    4049\n",
       "2017-12-18    4010\n",
       "2017-12-08    3954\n",
       "2017-12-15    3925\n",
       "2017-11-17    3878\n",
       "2017-11-21    3871\n",
       "2017-11-13    3780\n",
       "2017-11-27    3774\n",
       "2017-12-19    3738\n",
       "2017-11-15    3541\n",
       "2017-11-10    3524\n",
       "2017-12-20    3514\n",
       "2017-12-21    2995\n",
       "2017-11-22    2859\n",
       "2017-11-08    2751\n",
       "2017-11-11    2428\n",
       "2017-12-09    2137\n",
       "2017-12-02    2099\n",
       "2017-11-12    2075\n",
       "2017-12-22    2043\n",
       "2017-12-28    1978\n",
       "2017-11-18    1962\n",
       "2017-11-16    1961\n",
       "2017-12-16    1944\n",
       "2017-12-03    1899\n",
       "2017-12-10    1892\n",
       "2017-11-19    1891\n",
       "2017-12-17    1789\n",
       "2017-12-29    1763\n",
       "2017-12-27    1752\n",
       "2017-11-25    1736\n",
       "2017-11-24    1577\n",
       "2017-12-26    1453\n",
       "2017-12-30    1444\n",
       "2017-12-31    1410\n",
       "2017-11-23    1186\n",
       "2017-12-23     935\n",
       "2017-12-24     819\n",
       "2017-12-25     712\n",
       "2017-11-26     693\n",
       "2017-11-07       1\n",
       "Name: start_date, dtype: int64"
      ]
     },
     "execution_count": 64,
     "metadata": {},
     "output_type": "execute_result"
    }
   ],
   "source": [
    "df_clean.start_date.value_counts()"
   ]
  },
  {
   "cell_type": "code",
   "execution_count": 65,
   "metadata": {},
   "outputs": [],
   "source": [
    "# save the cleaned data to csv file\n",
    "df_clean.to_csv('fordgobike-tripdata_clean.csv',index=None)"
   ]
  },
  {
   "cell_type": "code",
   "execution_count": 66,
   "metadata": {},
   "outputs": [
    {
     "data": {
      "text/html": [
       "<div>\n",
       "<style scoped>\n",
       "    .dataframe tbody tr th:only-of-type {\n",
       "        vertical-align: middle;\n",
       "    }\n",
       "\n",
       "    .dataframe tbody tr th {\n",
       "        vertical-align: top;\n",
       "    }\n",
       "\n",
       "    .dataframe thead th {\n",
       "        text-align: right;\n",
       "    }\n",
       "</style>\n",
       "<table border=\"1\" class=\"dataframe\">\n",
       "  <thead>\n",
       "    <tr style=\"text-align: right;\">\n",
       "      <th></th>\n",
       "      <th>duration_sec</th>\n",
       "      <th>start_time</th>\n",
       "      <th>end_time</th>\n",
       "      <th>start_station_id</th>\n",
       "      <th>start_station_name</th>\n",
       "      <th>start_station_latitude</th>\n",
       "      <th>start_station_longitude</th>\n",
       "      <th>end_station_id</th>\n",
       "      <th>end_station_name</th>\n",
       "      <th>end_station_latitude</th>\n",
       "      <th>end_station_longitude</th>\n",
       "      <th>bike_id</th>\n",
       "      <th>user_type</th>\n",
       "      <th>duration_min</th>\n",
       "      <th>start_date</th>\n",
       "      <th>start_hour_of_day</th>\n",
       "      <th>start_day_of_week</th>\n",
       "      <th>start_month</th>\n",
       "    </tr>\n",
       "  </thead>\n",
       "  <tbody>\n",
       "    <tr>\n",
       "      <th>0</th>\n",
       "      <td>80110</td>\n",
       "      <td>2017-12-31 16:57:39.654</td>\n",
       "      <td>2018-01-01 15:12:50.245</td>\n",
       "      <td>74</td>\n",
       "      <td>Laguna St at Hayes St</td>\n",
       "      <td>37.776435</td>\n",
       "      <td>-122.426244</td>\n",
       "      <td>43</td>\n",
       "      <td>San Francisco Public Library (Grove St at Hyde...</td>\n",
       "      <td>37.778768</td>\n",
       "      <td>-122.415929</td>\n",
       "      <td>96.0</td>\n",
       "      <td>Customer</td>\n",
       "      <td>1335.166667</td>\n",
       "      <td>2017-12-31</td>\n",
       "      <td>16</td>\n",
       "      <td>Sunday</td>\n",
       "      <td>December</td>\n",
       "    </tr>\n",
       "    <tr>\n",
       "      <th>1</th>\n",
       "      <td>78800</td>\n",
       "      <td>2017-12-31 15:56:34.842</td>\n",
       "      <td>2018-01-01 13:49:55.617</td>\n",
       "      <td>284</td>\n",
       "      <td>Yerba Buena Center for the Arts (Howard St at ...</td>\n",
       "      <td>37.784872</td>\n",
       "      <td>-122.400876</td>\n",
       "      <td>96</td>\n",
       "      <td>Dolores St at 15th St</td>\n",
       "      <td>37.766210</td>\n",
       "      <td>-122.426614</td>\n",
       "      <td>88.0</td>\n",
       "      <td>Customer</td>\n",
       "      <td>1313.333333</td>\n",
       "      <td>2017-12-31</td>\n",
       "      <td>15</td>\n",
       "      <td>Sunday</td>\n",
       "      <td>December</td>\n",
       "    </tr>\n",
       "    <tr>\n",
       "      <th>2</th>\n",
       "      <td>45768</td>\n",
       "      <td>2017-12-31 22:45:48.411</td>\n",
       "      <td>2018-01-01 11:28:36.883</td>\n",
       "      <td>245</td>\n",
       "      <td>Downtown Berkeley BART</td>\n",
       "      <td>37.870348</td>\n",
       "      <td>-122.267764</td>\n",
       "      <td>245</td>\n",
       "      <td>Downtown Berkeley BART</td>\n",
       "      <td>37.870348</td>\n",
       "      <td>-122.267764</td>\n",
       "      <td>1094.0</td>\n",
       "      <td>Customer</td>\n",
       "      <td>762.800000</td>\n",
       "      <td>2017-12-31</td>\n",
       "      <td>22</td>\n",
       "      <td>Sunday</td>\n",
       "      <td>December</td>\n",
       "    </tr>\n",
       "    <tr>\n",
       "      <th>3</th>\n",
       "      <td>62172</td>\n",
       "      <td>2017-12-31 17:31:10.636</td>\n",
       "      <td>2018-01-01 10:47:23.531</td>\n",
       "      <td>60</td>\n",
       "      <td>8th St at Ringold St</td>\n",
       "      <td>37.774520</td>\n",
       "      <td>-122.409449</td>\n",
       "      <td>5</td>\n",
       "      <td>Powell St BART Station (Market St at 5th St)</td>\n",
       "      <td>37.783899</td>\n",
       "      <td>-122.408445</td>\n",
       "      <td>2831.0</td>\n",
       "      <td>Customer</td>\n",
       "      <td>1036.200000</td>\n",
       "      <td>2017-12-31</td>\n",
       "      <td>17</td>\n",
       "      <td>Sunday</td>\n",
       "      <td>December</td>\n",
       "    </tr>\n",
       "    <tr>\n",
       "      <th>4</th>\n",
       "      <td>43603</td>\n",
       "      <td>2017-12-31 14:23:14.001</td>\n",
       "      <td>2018-01-01 02:29:57.571</td>\n",
       "      <td>239</td>\n",
       "      <td>Bancroft Way at Telegraph Ave</td>\n",
       "      <td>37.868813</td>\n",
       "      <td>-122.258764</td>\n",
       "      <td>247</td>\n",
       "      <td>Fulton St at Bancroft Way</td>\n",
       "      <td>37.867789</td>\n",
       "      <td>-122.265896</td>\n",
       "      <td>3167.0</td>\n",
       "      <td>Subscriber</td>\n",
       "      <td>726.716667</td>\n",
       "      <td>2017-12-31</td>\n",
       "      <td>14</td>\n",
       "      <td>Sunday</td>\n",
       "      <td>December</td>\n",
       "    </tr>\n",
       "  </tbody>\n",
       "</table>\n",
       "</div>"
      ],
      "text/plain": [
       "   duration_sec               start_time                 end_time  \\\n",
       "0         80110  2017-12-31 16:57:39.654  2018-01-01 15:12:50.245   \n",
       "1         78800  2017-12-31 15:56:34.842  2018-01-01 13:49:55.617   \n",
       "2         45768  2017-12-31 22:45:48.411  2018-01-01 11:28:36.883   \n",
       "3         62172  2017-12-31 17:31:10.636  2018-01-01 10:47:23.531   \n",
       "4         43603  2017-12-31 14:23:14.001  2018-01-01 02:29:57.571   \n",
       "\n",
       "   start_station_id                                 start_station_name  \\\n",
       "0                74                              Laguna St at Hayes St   \n",
       "1               284  Yerba Buena Center for the Arts (Howard St at ...   \n",
       "2               245                             Downtown Berkeley BART   \n",
       "3                60                               8th St at Ringold St   \n",
       "4               239                      Bancroft Way at Telegraph Ave   \n",
       "\n",
       "   start_station_latitude  start_station_longitude  end_station_id  \\\n",
       "0               37.776435              -122.426244              43   \n",
       "1               37.784872              -122.400876              96   \n",
       "2               37.870348              -122.267764             245   \n",
       "3               37.774520              -122.409449               5   \n",
       "4               37.868813              -122.258764             247   \n",
       "\n",
       "                                    end_station_name  end_station_latitude  \\\n",
       "0  San Francisco Public Library (Grove St at Hyde...             37.778768   \n",
       "1                              Dolores St at 15th St             37.766210   \n",
       "2                             Downtown Berkeley BART             37.870348   \n",
       "3       Powell St BART Station (Market St at 5th St)             37.783899   \n",
       "4                          Fulton St at Bancroft Way             37.867789   \n",
       "\n",
       "   end_station_longitude  bike_id   user_type  duration_min  start_date  \\\n",
       "0            -122.415929     96.0    Customer   1335.166667  2017-12-31   \n",
       "1            -122.426614     88.0    Customer   1313.333333  2017-12-31   \n",
       "2            -122.267764   1094.0    Customer    762.800000  2017-12-31   \n",
       "3            -122.408445   2831.0    Customer   1036.200000  2017-12-31   \n",
       "4            -122.265896   3167.0  Subscriber    726.716667  2017-12-31   \n",
       "\n",
       "   start_hour_of_day start_day_of_week start_month  \n",
       "0                 16            Sunday    December  \n",
       "1                 15            Sunday    December  \n",
       "2                 22            Sunday    December  \n",
       "3                 17            Sunday    December  \n",
       "4                 14            Sunday    December  "
      ]
     },
     "execution_count": 66,
     "metadata": {},
     "output_type": "execute_result"
    }
   ],
   "source": [
    "main = pd.read_csv('fordgobike-tripdata_clean.csv')\n",
    "main.head()"
   ]
  },
  {
   "cell_type": "code",
   "execution_count": 67,
   "metadata": {},
   "outputs": [
    {
     "name": "stdout",
     "output_type": "stream",
     "text": [
      "<class 'pandas.core.frame.DataFrame'>\n",
      "RangeIndex: 155686 entries, 0 to 155685\n",
      "Data columns (total 18 columns):\n",
      "duration_sec               155686 non-null int64\n",
      "start_time                 155686 non-null object\n",
      "end_time                   155686 non-null object\n",
      "start_station_id           155686 non-null int64\n",
      "start_station_name         155686 non-null object\n",
      "start_station_latitude     155686 non-null float64\n",
      "start_station_longitude    155686 non-null float64\n",
      "end_station_id             155686 non-null int64\n",
      "end_station_name           155686 non-null object\n",
      "end_station_latitude       155685 non-null float64\n",
      "end_station_longitude      155685 non-null float64\n",
      "bike_id                    155685 non-null float64\n",
      "user_type                  155685 non-null object\n",
      "duration_min               155686 non-null float64\n",
      "start_date                 155686 non-null object\n",
      "start_hour_of_day          155686 non-null int64\n",
      "start_day_of_week          155686 non-null object\n",
      "start_month                155686 non-null object\n",
      "dtypes: float64(6), int64(4), object(8)\n",
      "memory usage: 21.4+ MB\n"
     ]
    }
   ],
   "source": [
    "main.info()"
   ]
  },
  {
   "cell_type": "markdown",
   "metadata": {},
   "source": [
    "### And the 'main' dataframe has these additional variables:\n",
    "\n",
    "   -  Start Time Month\n",
    "   -  Start Time Day of the Week\n",
    "   -  Start Time Hour\n",
    "   -  Start Date\n",
    "   -  duration_min\n",
    "    \n"
   ]
  },
  {
   "cell_type": "markdown",
   "metadata": {},
   "source": [
    "## Data Exploration and Analysis\n",
    "\n",
    " - In this section, I used Python visualization libraries to systematically explore trip_master dataset, starting from plots of single variables and building up to plots of multiple variables. Also, some research questions were developed, which will be answered in the Data Analysis section."
   ]
  },
  {
   "cell_type": "markdown",
   "metadata": {},
   "source": [
    "###  Univariate Exploration"
   ]
  },
  {
   "cell_type": "markdown",
   "metadata": {},
   "source": [
    "##### What is the distribution of the number of trips by the start hour of a day?"
   ]
  },
  {
   "cell_type": "code",
   "execution_count": 68,
   "metadata": {},
   "outputs": [
    {
     "data": {
      "image/png": "[encoded data removed]",
      "text/plain": [
       "<matplotlib.figure.Figure at 0x7fc313927f28>"
      ]
     },
     "metadata": {},
     "output_type": "display_data"
    }
   ],
   "source": [
    "# Visualizing distribution of trips by hours\n",
    "\n",
    "plt.rcParams['figure.figsize'] = 9, 7\n",
    "base_color = sb.color_palette('colorblind')[0]\n",
    "sb.set_style('darkgrid')\n",
    "\n",
    "sb.countplot(data=main, x='start_hour_of_day', color=base_color)\n",
    "plt.xlabel('(Starting) hour of day', fontsize=14)\n",
    "plt.ylabel('Count', fontsize=14)\n",
    "plt.title(\"Distribution of trips by the start hour of day\", fontsize=16);"
   ]
  },
  {
   "cell_type": "markdown",
   "metadata": {},
   "source": [
    "- The most busy hour is 5 PM, second busy hour is 8AM. The busy hours are 7-9 AM in morning and 4PM-6PM in the evening. This time is common commuting time.\n",
    "- There is clearly a high usage during the peak hours when people go to school or work or they commute from it to home."
   ]
  },
  {
   "cell_type": "markdown",
   "metadata": {},
   "source": [
    "#### Lets check the usage of the rides per month"
   ]
  },
  {
   "cell_type": "code",
   "execution_count": 145,
   "metadata": {},
   "outputs": [
    {
     "data": {
      "image/png": "[encoded data removed]",
      "text/plain": [
       "<matplotlib.figure.Figure at 0x7fc3120918d0>"
      ]
     },
     "metadata": {},
     "output_type": "display_data"
    }
   ],
   "source": [
    "# Visualizing distribution of trips by hours\n",
    "\n",
    "plt.rcParams['figure.figsize'] = 7, 5\n",
    "base_color = sb.color_palette('colorblind')[0]\n",
    "sb.set_style('darkgrid')\n",
    "\n",
    "sb.countplot(data=main, x='start_month')\n",
    "plt.xlabel('Month', fontsize=14)\n",
    "plt.ylabel('Number of bike rides', fontsize=14)\n",
    "plt.title(\"Monthly Usage of Rides\", fontsize=16);"
   ]
  },
  {
   "cell_type": "markdown",
   "metadata": {},
   "source": [
    "- We can see from above that the distribution of rides in December month is more then November month "
   ]
  },
  {
   "cell_type": "markdown",
   "metadata": {},
   "source": [
    "##### What is the proportion between different user types?"
   ]
  },
  {
   "cell_type": "code",
   "execution_count": 149,
   "metadata": {},
   "outputs": [
    {
     "data": {
      "image/png": "[encoded data removed]",
      "text/plain": [
       "<matplotlib.figure.Figure at 0x7fc313c74ba8>"
      ]
     },
     "metadata": {},
     "output_type": "display_data"
    }
   ],
   "source": [
    "# Let's have a look at the number of users by user type\n",
    "sb.countplot(data=main, x='user_type')\n",
    "plt.xlabel('User type', fontsize=14)\n",
    "plt.ylabel('Count', fontsize=14)\n",
    "plt.title(\"Distribution of trips by the start day of week\", fontsize=16);"
   ]
  },
  {
   "cell_type": "markdown",
   "metadata": {},
   "source": [
    "- Majority of users are Subscribers.\n",
    "- It makes sense since we saw that many rides could be from people commuting to work or school and these users will probably save money if they subscribe. In general makes sense that people that use the service frequently will prefer subscribing."
   ]
  },
  {
   "cell_type": "markdown",
   "metadata": {},
   "source": [
    "##### What is the distribution of the number of trips by a day in a week?"
   ]
  },
  {
   "cell_type": "code",
   "execution_count": 71,
   "metadata": {},
   "outputs": [
    {
     "data": {
      "image/png": "[encoded data removed]",
      "text/plain": [
       "<matplotlib.figure.Figure at 0x7fc31bd4eac8>"
      ]
     },
     "metadata": {},
     "output_type": "display_data"
    }
   ],
   "source": [
    "# Visualizing distribution of trips by days\n",
    "\n",
    "weekday = ['Monday', 'Tuesday', 'Wednesday', 'Thursday', 'Friday', 'Saturday', 'Sunday']\n",
    "weekdaycat = pd.api.types.CategoricalDtype(ordered=True, categories=weekday)\n",
    "main['start_day_of_week'] = main['start_day_of_week'].astype(weekdaycat)\n",
    "\n",
    "sb.countplot(data=main, x='start_day_of_week', color=base_color)\n",
    "plt.xlabel('Start day of week', fontsize=14)\n",
    "plt.ylabel('Count', fontsize=14)\n",
    "plt.title(\"Distribution of trips by the start day of week\", fontsize=16);"
   ]
  },
  {
   "cell_type": "markdown",
   "metadata": {},
   "source": [
    "- People use the bike less on Saturday and Sunday.\n",
    "\n",
    "\n",
    "- It can clearly be seen that there is a big difference between the rides during the workweek and the rides during the weekend. This makes sense since during the weekends less people have to go to work or study as they do during the workweek.\n",
    "\n",
    "- Something else to notice is that the frequency of rides during Monday and Friday is less than during Tuesday-Thursday. My guess is that this has to do with the fact that people try to take their vacation days in these days in order to connect those days with the weekend.\n"
   ]
  },
  {
   "cell_type": "markdown",
   "metadata": {},
   "source": [
    "#### Lets check the bike rides distributed by duration (in sec)"
   ]
  },
  {
   "cell_type": "code",
   "execution_count": 92,
   "metadata": {},
   "outputs": [
    {
     "data": {
      "image/png": "[encoded data removed]",
      "text/plain": [
       "<matplotlib.figure.Figure at 0x7fc3123fd518>"
      ]
     },
     "metadata": {},
     "output_type": "display_data"
    }
   ],
   "source": [
    "#Plot with the new maximum values. \n",
    "bins2 = np.arange(0, 1800+60,60)\n",
    "main['duration_sec'].plot( kind = 'hist', bins = bins2)\n",
    "plt.xlabel('Duration');\n",
    "plt.ylabel('Bike Trips');\n",
    "plt.title('Bike Trips Duration Frequency');"
   ]
  },
  {
   "cell_type": "markdown",
   "metadata": {},
   "source": [
    "- Looking to distribution of plot, it's clearly skewed to right, and this shows the consumer behavior of duration seconds aren't too long, i can verify that calculating the median of the feature below:"
   ]
  },
  {
   "cell_type": "code",
   "execution_count": 73,
   "metadata": {},
   "outputs": [
    {
     "data": {
      "text/plain": [
       "572.0"
      ]
     },
     "execution_count": 73,
     "metadata": {},
     "output_type": "execute_result"
    }
   ],
   "source": [
    "#Duration_sec Median\n",
    "main.duration_sec.median()"
   ]
  },
  {
   "cell_type": "markdown",
   "metadata": {},
   "source": [
    "- Like i've said above, the median duration is less than 10 minutes"
   ]
  },
  {
   "cell_type": "code",
   "execution_count": 97,
   "metadata": {},
   "outputs": [
    {
     "data": {
      "image/png": "[encoded data removed]",
      "text/plain": [
       "<matplotlib.figure.Figure at 0x7fc3122389e8>"
      ]
     },
     "metadata": {},
     "output_type": "display_data"
    }
   ],
   "source": [
    "sb.boxplot(data=main, y='duration_sec');"
   ]
  },
  {
   "cell_type": "markdown",
   "metadata": {},
   "source": [
    "###### That wasn't very clear, let's try a histogram"
   ]
  },
  {
   "cell_type": "code",
   "execution_count": 75,
   "metadata": {},
   "outputs": [
    {
     "data": {
      "image/png": "[encoded data removed]",
      "text/plain": [
       "<matplotlib.figure.Figure at 0x7fc3139f6080>"
      ]
     },
     "metadata": {},
     "output_type": "display_data"
    }
   ],
   "source": [
    "graph = main.duration_sec\n",
    "plt.hist(graph,bins=1000);"
   ]
  },
  {
   "cell_type": "markdown",
   "metadata": {},
   "source": [
    "##### Add range to the histogram"
   ]
  },
  {
   "cell_type": "code",
   "execution_count": 76,
   "metadata": {},
   "outputs": [
    {
     "data": {
      "image/png": "[encoded data removed]",
      "text/plain": [
       "<matplotlib.figure.Figure at 0x7fc31251ddd8>"
      ]
     },
     "metadata": {},
     "output_type": "display_data"
    }
   ],
   "source": [
    "graph = main.duration_sec\n",
    "plt.hist(graph,bins=1000,range=(0,6000));\n",
    "plt.title(\"Distribution of Duration\")\n",
    "plt.xlabel('Duration in Seconds')\n",
    "plt.ylabel('Count');"
   ]
  },
  {
   "cell_type": "markdown",
   "metadata": {},
   "source": [
    "- Since most of the values seem to lie below 4000, let's remove the outliers, since average duration depends on trip duration being realistic. For this, I compute the Z score of each duration value and remove it if is below 3. That is, remove all values beyond two standard deviations."
   ]
  },
  {
   "cell_type": "code",
   "execution_count": 77,
   "metadata": {},
   "outputs": [],
   "source": [
    "main = main[(np.abs(stats.zscore(main.duration_sec)) < 3)]"
   ]
  },
  {
   "cell_type": "code",
   "execution_count": 78,
   "metadata": {},
   "outputs": [
    {
     "data": {
      "text/html": [
       "<div>\n",
       "<style scoped>\n",
       "    .dataframe tbody tr th:only-of-type {\n",
       "        vertical-align: middle;\n",
       "    }\n",
       "\n",
       "    .dataframe tbody tr th {\n",
       "        vertical-align: top;\n",
       "    }\n",
       "\n",
       "    .dataframe thead th {\n",
       "        text-align: right;\n",
       "    }\n",
       "</style>\n",
       "<table border=\"1\" class=\"dataframe\">\n",
       "  <thead>\n",
       "    <tr style=\"text-align: right;\">\n",
       "      <th></th>\n",
       "      <th>duration_sec</th>\n",
       "      <th>start_station_id</th>\n",
       "      <th>start_station_latitude</th>\n",
       "      <th>start_station_longitude</th>\n",
       "      <th>end_station_id</th>\n",
       "      <th>end_station_latitude</th>\n",
       "      <th>end_station_longitude</th>\n",
       "      <th>bike_id</th>\n",
       "      <th>duration_min</th>\n",
       "      <th>start_hour_of_day</th>\n",
       "    </tr>\n",
       "  </thead>\n",
       "  <tbody>\n",
       "    <tr>\n",
       "      <th>count</th>\n",
       "      <td>154535.000000</td>\n",
       "      <td>154535.000000</td>\n",
       "      <td>154535.000000</td>\n",
       "      <td>154535.000000</td>\n",
       "      <td>154535.000000</td>\n",
       "      <td>154534.000000</td>\n",
       "      <td>154534.000000</td>\n",
       "      <td>154534.000000</td>\n",
       "      <td>154535.000000</td>\n",
       "      <td>154535.000000</td>\n",
       "    </tr>\n",
       "    <tr>\n",
       "      <th>mean</th>\n",
       "      <td>753.323784</td>\n",
       "      <td>102.300003</td>\n",
       "      <td>37.766182</td>\n",
       "      <td>-122.357460</td>\n",
       "      <td>99.567192</td>\n",
       "      <td>37.766458</td>\n",
       "      <td>-122.356573</td>\n",
       "      <td>1864.379813</td>\n",
       "      <td>12.555396</td>\n",
       "      <td>13.395755</td>\n",
       "    </tr>\n",
       "    <tr>\n",
       "      <th>std</th>\n",
       "      <td>781.985153</td>\n",
       "      <td>87.379515</td>\n",
       "      <td>0.098284</td>\n",
       "      <td>0.117445</td>\n",
       "      <td>86.776524</td>\n",
       "      <td>0.098193</td>\n",
       "      <td>0.116851</td>\n",
       "      <td>1019.863479</td>\n",
       "      <td>13.033086</td>\n",
       "      <td>4.631906</td>\n",
       "    </tr>\n",
       "    <tr>\n",
       "      <th>min</th>\n",
       "      <td>61.000000</td>\n",
       "      <td>3.000000</td>\n",
       "      <td>37.317298</td>\n",
       "      <td>-122.444293</td>\n",
       "      <td>3.000000</td>\n",
       "      <td>37.317298</td>\n",
       "      <td>-122.444293</td>\n",
       "      <td>10.000000</td>\n",
       "      <td>1.016667</td>\n",
       "      <td>0.000000</td>\n",
       "    </tr>\n",
       "    <tr>\n",
       "      <th>25%</th>\n",
       "      <td>365.000000</td>\n",
       "      <td>28.000000</td>\n",
       "      <td>37.771058</td>\n",
       "      <td>-122.412544</td>\n",
       "      <td>27.000000</td>\n",
       "      <td>37.771662</td>\n",
       "      <td>-122.411403</td>\n",
       "      <td>1014.000000</td>\n",
       "      <td>6.083333</td>\n",
       "      <td>9.000000</td>\n",
       "    </tr>\n",
       "    <tr>\n",
       "      <th>50%</th>\n",
       "      <td>568.000000</td>\n",
       "      <td>77.000000</td>\n",
       "      <td>37.781270</td>\n",
       "      <td>-122.399018</td>\n",
       "      <td>75.000000</td>\n",
       "      <td>37.781752</td>\n",
       "      <td>-122.398773</td>\n",
       "      <td>1967.000000</td>\n",
       "      <td>9.466667</td>\n",
       "      <td>14.000000</td>\n",
       "    </tr>\n",
       "    <tr>\n",
       "      <th>75%</th>\n",
       "      <td>876.000000</td>\n",
       "      <td>154.000000</td>\n",
       "      <td>37.795392</td>\n",
       "      <td>-122.390648</td>\n",
       "      <td>149.000000</td>\n",
       "      <td>37.795392</td>\n",
       "      <td>-122.390648</td>\n",
       "      <td>2762.000000</td>\n",
       "      <td>14.600000</td>\n",
       "      <td>17.000000</td>\n",
       "    </tr>\n",
       "    <tr>\n",
       "      <th>max</th>\n",
       "      <td>9940.000000</td>\n",
       "      <td>340.000000</td>\n",
       "      <td>37.880222</td>\n",
       "      <td>-121.874119</td>\n",
       "      <td>340.000000</td>\n",
       "      <td>37.880222</td>\n",
       "      <td>-121.874119</td>\n",
       "      <td>3733.000000</td>\n",
       "      <td>165.666667</td>\n",
       "      <td>23.000000</td>\n",
       "    </tr>\n",
       "  </tbody>\n",
       "</table>\n",
       "</div>"
      ],
      "text/plain": [
       "        duration_sec  start_station_id  start_station_latitude  \\\n",
       "count  154535.000000     154535.000000           154535.000000   \n",
       "mean      753.323784        102.300003               37.766182   \n",
       "std       781.985153         87.379515                0.098284   \n",
       "min        61.000000          3.000000               37.317298   \n",
       "25%       365.000000         28.000000               37.771058   \n",
       "50%       568.000000         77.000000               37.781270   \n",
       "75%       876.000000        154.000000               37.795392   \n",
       "max      9940.000000        340.000000               37.880222   \n",
       "\n",
       "       start_station_longitude  end_station_id  end_station_latitude  \\\n",
       "count            154535.000000   154535.000000         154534.000000   \n",
       "mean               -122.357460       99.567192             37.766458   \n",
       "std                   0.117445       86.776524              0.098193   \n",
       "min                -122.444293        3.000000             37.317298   \n",
       "25%                -122.412544       27.000000             37.771662   \n",
       "50%                -122.399018       75.000000             37.781752   \n",
       "75%                -122.390648      149.000000             37.795392   \n",
       "max                -121.874119      340.000000             37.880222   \n",
       "\n",
       "       end_station_longitude        bike_id   duration_min  start_hour_of_day  \n",
       "count          154534.000000  154534.000000  154535.000000      154535.000000  \n",
       "mean             -122.356573    1864.379813      12.555396          13.395755  \n",
       "std                 0.116851    1019.863479      13.033086           4.631906  \n",
       "min              -122.444293      10.000000       1.016667           0.000000  \n",
       "25%              -122.411403    1014.000000       6.083333           9.000000  \n",
       "50%              -122.398773    1967.000000       9.466667          14.000000  \n",
       "75%              -122.390648    2762.000000      14.600000          17.000000  \n",
       "max              -121.874119    3733.000000     165.666667          23.000000  "
      ]
     },
     "execution_count": 78,
     "metadata": {},
     "output_type": "execute_result"
    }
   ],
   "source": [
    "main.describe()"
   ]
  },
  {
   "cell_type": "markdown",
   "metadata": {},
   "source": [
    "- 99% records are retained and the max is much closer to 75% of the values, so let's visualize again"
   ]
  },
  {
   "cell_type": "code",
   "execution_count": 79,
   "metadata": {},
   "outputs": [
    {
     "data": {
      "image/png": "[encoded data removed]",
      "text/plain": [
       "<matplotlib.figure.Figure at 0x7fc311ee6c88>"
      ]
     },
     "metadata": {},
     "output_type": "display_data"
    }
   ],
   "source": [
    "graph = main.duration_sec\n",
    "plt.hist(graph,bins=1000);\n",
    "plt.axvline(graph.mean(),color='red');\n",
    "plt.axvline(statistics.mode(graph),color='green');\n",
    "plt.axvline(statistics.median(graph),color='black');"
   ]
  },
  {
   "cell_type": "markdown",
   "metadata": {},
   "source": [
    "##### Average Duration is :"
   ]
  },
  {
   "cell_type": "code",
   "execution_count": 80,
   "metadata": {},
   "outputs": [
    {
     "data": {
      "text/plain": [
       "753.32378425599381"
      ]
     },
     "execution_count": 80,
     "metadata": {},
     "output_type": "execute_result"
    }
   ],
   "source": [
    "main.duration_sec.mean()"
   ]
  },
  {
   "cell_type": "markdown",
   "metadata": {},
   "source": [
    "###### Does the average duration depend on if a user is a subscriber or customer?"
   ]
  },
  {
   "cell_type": "code",
   "execution_count": 81,
   "metadata": {},
   "outputs": [
    {
     "data": {
      "image/png": "[encoded data removed]",
      "text/plain": [
       "<matplotlib.figure.Figure at 0x7fc312347470>"
      ]
     },
     "metadata": {},
     "output_type": "display_data"
    }
   ],
   "source": [
    "sb.violinplot(data=main[main.duration_sec<=923],x='user_type',y='duration_sec');"
   ]
  },
  {
   "cell_type": "markdown",
   "metadata": {},
   "source": [
    "- Seems like duration is higher if the user type is a one time customer. However, this might also be dependent on the distance between locations, so an average should be taken over location to location and plotted"
   ]
  },
  {
   "cell_type": "code",
   "execution_count": 82,
   "metadata": {},
   "outputs": [
    {
     "data": {
      "image/png": "[encoded data removed]",
      "text/plain": [
       "<matplotlib.figure.Figure at 0x7fc3120b0c88>"
      ]
     },
     "metadata": {},
     "output_type": "display_data"
    }
   ],
   "source": [
    "sb.violinplot(data=main.groupby(['start_station_id','end_station_id','user_type'])['duration_sec'].mean().reset_index(),\n",
    "              x='user_type',y='duration_sec');"
   ]
  },
  {
   "cell_type": "markdown",
   "metadata": {},
   "source": [
    "- Subscriber seems to have lesser duration, compared to Customer."
   ]
  },
  {
   "cell_type": "code",
   "execution_count": 152,
   "metadata": {},
   "outputs": [
    {
     "name": "stdout",
     "output_type": "stream",
     "text": [
      "<class 'pandas.core.frame.DataFrame'>\n",
      "Int64Index: 1499 entries, 5 to 155674\n",
      "Data columns (total 18 columns):\n",
      "duration_sec               1499 non-null int64\n",
      "start_time                 1499 non-null object\n",
      "end_time                   1499 non-null object\n",
      "start_station_id           1499 non-null int64\n",
      "start_station_name         1499 non-null object\n",
      "start_station_latitude     1499 non-null float64\n",
      "start_station_longitude    1499 non-null float64\n",
      "end_station_id             1499 non-null int64\n",
      "end_station_name           1499 non-null object\n",
      "end_station_latitude       1499 non-null float64\n",
      "end_station_longitude      1499 non-null float64\n",
      "bike_id                    1499 non-null float64\n",
      "user_type                  1499 non-null object\n",
      "duration_min               1499 non-null float64\n",
      "start_date                 1499 non-null object\n",
      "start_hour_of_day          1499 non-null int64\n",
      "start_day_of_week          1499 non-null category\n",
      "start_month                1499 non-null object\n",
      "dtypes: category(1), float64(6), int64(4), object(7)\n",
      "memory usage: 212.6+ KB\n"
     ]
    }
   ],
   "source": [
    "# Let's have a look at the outliers in duration_min\n",
    "outliers = main.query('duration_min >= 77')\n",
    "outliers.info()"
   ]
  },
  {
   "cell_type": "markdown",
   "metadata": {},
   "source": [
    "###### We have 1499 outliers in terms of duration (minutes) of a trip"
   ]
  },
  {
   "cell_type": "code",
   "execution_count": 99,
   "metadata": {},
   "outputs": [
    {
     "data": {
      "text/html": [
       "<div>\n",
       "<style scoped>\n",
       "    .dataframe tbody tr th:only-of-type {\n",
       "        vertical-align: middle;\n",
       "    }\n",
       "\n",
       "    .dataframe tbody tr th {\n",
       "        vertical-align: top;\n",
       "    }\n",
       "\n",
       "    .dataframe thead th {\n",
       "        text-align: right;\n",
       "    }\n",
       "</style>\n",
       "<table border=\"1\" class=\"dataframe\">\n",
       "  <thead>\n",
       "    <tr style=\"text-align: right;\">\n",
       "      <th></th>\n",
       "      <th>duration_sec</th>\n",
       "      <th>start_time</th>\n",
       "      <th>end_time</th>\n",
       "      <th>start_station_id</th>\n",
       "      <th>start_station_name</th>\n",
       "      <th>start_station_latitude</th>\n",
       "      <th>start_station_longitude</th>\n",
       "      <th>end_station_id</th>\n",
       "      <th>end_station_name</th>\n",
       "      <th>end_station_latitude</th>\n",
       "      <th>end_station_longitude</th>\n",
       "      <th>bike_id</th>\n",
       "      <th>user_type</th>\n",
       "      <th>duration_min</th>\n",
       "      <th>start_date</th>\n",
       "      <th>start_hour_of_day</th>\n",
       "      <th>start_day_of_week</th>\n",
       "      <th>start_month</th>\n",
       "    </tr>\n",
       "  </thead>\n",
       "  <tbody>\n",
       "    <tr>\n",
       "      <th>107286</th>\n",
       "      <td>9578</td>\n",
       "      <td>2017-11-23 14:55:50.794</td>\n",
       "      <td>2017-11-23 17:35:29.456</td>\n",
       "      <td>11</td>\n",
       "      <td>Davis St at Jackson St</td>\n",
       "      <td>37.797280</td>\n",
       "      <td>-122.398436</td>\n",
       "      <td>11</td>\n",
       "      <td>Davis St at Jackson St</td>\n",
       "      <td>37.797280</td>\n",
       "      <td>-122.398436</td>\n",
       "      <td>15.0</td>\n",
       "      <td>Customer</td>\n",
       "      <td>159.633333</td>\n",
       "      <td>2017-11-23</td>\n",
       "      <td>14</td>\n",
       "      <td>Thursday</td>\n",
       "      <td>November</td>\n",
       "    </tr>\n",
       "    <tr>\n",
       "      <th>61354</th>\n",
       "      <td>9276</td>\n",
       "      <td>2017-12-07 20:03:22.108</td>\n",
       "      <td>2017-12-07 22:37:59.018</td>\n",
       "      <td>58</td>\n",
       "      <td>Market St at 10th St</td>\n",
       "      <td>37.776619</td>\n",
       "      <td>-122.417385</td>\n",
       "      <td>44</td>\n",
       "      <td>Civic Center/UN Plaza BART Station (Market St ...</td>\n",
       "      <td>37.781074</td>\n",
       "      <td>-122.411738</td>\n",
       "      <td>2090.0</td>\n",
       "      <td>Customer</td>\n",
       "      <td>154.600000</td>\n",
       "      <td>2017-12-07</td>\n",
       "      <td>20</td>\n",
       "      <td>Thursday</td>\n",
       "      <td>December</td>\n",
       "    </tr>\n",
       "    <tr>\n",
       "      <th>148930</th>\n",
       "      <td>5534</td>\n",
       "      <td>2017-11-09 18:55:51.485</td>\n",
       "      <td>2017-11-09 20:28:05.817</td>\n",
       "      <td>17</td>\n",
       "      <td>Embarcadero BART Station (Beale St at Market St)</td>\n",
       "      <td>37.792251</td>\n",
       "      <td>-122.397086</td>\n",
       "      <td>4</td>\n",
       "      <td>Cyril Magnin St at Ellis St</td>\n",
       "      <td>37.785881</td>\n",
       "      <td>-122.408915</td>\n",
       "      <td>2150.0</td>\n",
       "      <td>Customer</td>\n",
       "      <td>92.233333</td>\n",
       "      <td>2017-11-09</td>\n",
       "      <td>18</td>\n",
       "      <td>Thursday</td>\n",
       "      <td>November</td>\n",
       "    </tr>\n",
       "    <tr>\n",
       "      <th>9002</th>\n",
       "      <td>6176</td>\n",
       "      <td>2017-12-26 13:17:30.921</td>\n",
       "      <td>2017-12-26 15:00:27.660</td>\n",
       "      <td>8</td>\n",
       "      <td>The Embarcadero at Vallejo St</td>\n",
       "      <td>37.799953</td>\n",
       "      <td>-122.398525</td>\n",
       "      <td>20</td>\n",
       "      <td>Mechanics Monument Plaza (Market St at Bush St)</td>\n",
       "      <td>37.791300</td>\n",
       "      <td>-122.399051</td>\n",
       "      <td>1090.0</td>\n",
       "      <td>Customer</td>\n",
       "      <td>102.933333</td>\n",
       "      <td>2017-12-26</td>\n",
       "      <td>13</td>\n",
       "      <td>Tuesday</td>\n",
       "      <td>December</td>\n",
       "    </tr>\n",
       "    <tr>\n",
       "      <th>107626</th>\n",
       "      <td>7238</td>\n",
       "      <td>2017-11-23 12:11:13.612</td>\n",
       "      <td>2017-11-23 14:11:52.233</td>\n",
       "      <td>287</td>\n",
       "      <td>Almaden Blvd at Balbach St</td>\n",
       "      <td>37.326730</td>\n",
       "      <td>-121.889273</td>\n",
       "      <td>304</td>\n",
       "      <td>Jackson St at 5th St</td>\n",
       "      <td>37.348759</td>\n",
       "      <td>-121.894798</td>\n",
       "      <td>1685.0</td>\n",
       "      <td>Customer</td>\n",
       "      <td>120.633333</td>\n",
       "      <td>2017-11-23</td>\n",
       "      <td>12</td>\n",
       "      <td>Thursday</td>\n",
       "      <td>November</td>\n",
       "    </tr>\n",
       "    <tr>\n",
       "      <th>117711</th>\n",
       "      <td>6450</td>\n",
       "      <td>2017-11-20 08:31:24.499</td>\n",
       "      <td>2017-11-20 10:18:55.239</td>\n",
       "      <td>3</td>\n",
       "      <td>Powell St BART Station (Market St at 4th St)</td>\n",
       "      <td>37.786375</td>\n",
       "      <td>-122.404904</td>\n",
       "      <td>324</td>\n",
       "      <td>Union Square (Powell St at Post St)</td>\n",
       "      <td>37.788300</td>\n",
       "      <td>-122.408531</td>\n",
       "      <td>3157.0</td>\n",
       "      <td>Customer</td>\n",
       "      <td>107.500000</td>\n",
       "      <td>2017-11-20</td>\n",
       "      <td>8</td>\n",
       "      <td>Monday</td>\n",
       "      <td>November</td>\n",
       "    </tr>\n",
       "    <tr>\n",
       "      <th>81668</th>\n",
       "      <td>9572</td>\n",
       "      <td>2017-12-02 10:31:37.963</td>\n",
       "      <td>2017-12-02 13:11:10.154</td>\n",
       "      <td>19</td>\n",
       "      <td>Post St at Kearny St</td>\n",
       "      <td>37.788975</td>\n",
       "      <td>-122.403452</td>\n",
       "      <td>324</td>\n",
       "      <td>Union Square (Powell St at Post St)</td>\n",
       "      <td>37.788300</td>\n",
       "      <td>-122.408531</td>\n",
       "      <td>1919.0</td>\n",
       "      <td>Customer</td>\n",
       "      <td>159.533333</td>\n",
       "      <td>2017-12-02</td>\n",
       "      <td>10</td>\n",
       "      <td>Saturday</td>\n",
       "      <td>December</td>\n",
       "    </tr>\n",
       "    <tr>\n",
       "      <th>56478</th>\n",
       "      <td>7192</td>\n",
       "      <td>2017-12-09 11:37:21.239</td>\n",
       "      <td>2017-12-09 13:37:13.975</td>\n",
       "      <td>6</td>\n",
       "      <td>The Embarcadero at Sansome St</td>\n",
       "      <td>37.804770</td>\n",
       "      <td>-122.403234</td>\n",
       "      <td>29</td>\n",
       "      <td>O'Farrell St at Divisadero St</td>\n",
       "      <td>37.782405</td>\n",
       "      <td>-122.439446</td>\n",
       "      <td>380.0</td>\n",
       "      <td>Customer</td>\n",
       "      <td>119.866667</td>\n",
       "      <td>2017-12-09</td>\n",
       "      <td>11</td>\n",
       "      <td>Saturday</td>\n",
       "      <td>December</td>\n",
       "    </tr>\n",
       "    <tr>\n",
       "      <th>80942</th>\n",
       "      <td>8908</td>\n",
       "      <td>2017-12-02 14:20:46.941</td>\n",
       "      <td>2017-12-02 16:49:15.218</td>\n",
       "      <td>6</td>\n",
       "      <td>The Embarcadero at Sansome St</td>\n",
       "      <td>37.804770</td>\n",
       "      <td>-122.403234</td>\n",
       "      <td>48</td>\n",
       "      <td>2nd St at S Park St</td>\n",
       "      <td>37.782411</td>\n",
       "      <td>-122.392706</td>\n",
       "      <td>418.0</td>\n",
       "      <td>Customer</td>\n",
       "      <td>148.466667</td>\n",
       "      <td>2017-12-02</td>\n",
       "      <td>14</td>\n",
       "      <td>Saturday</td>\n",
       "      <td>December</td>\n",
       "    </tr>\n",
       "    <tr>\n",
       "      <th>36378</th>\n",
       "      <td>6807</td>\n",
       "      <td>2017-12-14 19:51:58.494</td>\n",
       "      <td>2017-12-14 21:45:25.753</td>\n",
       "      <td>127</td>\n",
       "      <td>Valencia St at 21st St</td>\n",
       "      <td>37.756708</td>\n",
       "      <td>-122.421025</td>\n",
       "      <td>147</td>\n",
       "      <td>29th St at Tiffany Ave</td>\n",
       "      <td>37.744067</td>\n",
       "      <td>-122.421472</td>\n",
       "      <td>2984.0</td>\n",
       "      <td>Customer</td>\n",
       "      <td>113.450000</td>\n",
       "      <td>2017-12-14</td>\n",
       "      <td>19</td>\n",
       "      <td>Thursday</td>\n",
       "      <td>December</td>\n",
       "    </tr>\n",
       "  </tbody>\n",
       "</table>\n",
       "</div>"
      ],
      "text/plain": [
       "        duration_sec               start_time                 end_time  \\\n",
       "107286          9578  2017-11-23 14:55:50.794  2017-11-23 17:35:29.456   \n",
       "61354           9276  2017-12-07 20:03:22.108  2017-12-07 22:37:59.018   \n",
       "148930          5534  2017-11-09 18:55:51.485  2017-11-09 20:28:05.817   \n",
       "9002            6176  2017-12-26 13:17:30.921  2017-12-26 15:00:27.660   \n",
       "107626          7238  2017-11-23 12:11:13.612  2017-11-23 14:11:52.233   \n",
       "117711          6450  2017-11-20 08:31:24.499  2017-11-20 10:18:55.239   \n",
       "81668           9572  2017-12-02 10:31:37.963  2017-12-02 13:11:10.154   \n",
       "56478           7192  2017-12-09 11:37:21.239  2017-12-09 13:37:13.975   \n",
       "80942           8908  2017-12-02 14:20:46.941  2017-12-02 16:49:15.218   \n",
       "36378           6807  2017-12-14 19:51:58.494  2017-12-14 21:45:25.753   \n",
       "\n",
       "        start_station_id                                start_station_name  \\\n",
       "107286                11                            Davis St at Jackson St   \n",
       "61354                 58                              Market St at 10th St   \n",
       "148930                17  Embarcadero BART Station (Beale St at Market St)   \n",
       "9002                   8                     The Embarcadero at Vallejo St   \n",
       "107626               287                        Almaden Blvd at Balbach St   \n",
       "117711                 3      Powell St BART Station (Market St at 4th St)   \n",
       "81668                 19                              Post St at Kearny St   \n",
       "56478                  6                     The Embarcadero at Sansome St   \n",
       "80942                  6                     The Embarcadero at Sansome St   \n",
       "36378                127                            Valencia St at 21st St   \n",
       "\n",
       "        start_station_latitude  start_station_longitude  end_station_id  \\\n",
       "107286               37.797280              -122.398436              11   \n",
       "61354                37.776619              -122.417385              44   \n",
       "148930               37.792251              -122.397086               4   \n",
       "9002                 37.799953              -122.398525              20   \n",
       "107626               37.326730              -121.889273             304   \n",
       "117711               37.786375              -122.404904             324   \n",
       "81668                37.788975              -122.403452             324   \n",
       "56478                37.804770              -122.403234              29   \n",
       "80942                37.804770              -122.403234              48   \n",
       "36378                37.756708              -122.421025             147   \n",
       "\n",
       "                                         end_station_name  \\\n",
       "107286                             Davis St at Jackson St   \n",
       "61354   Civic Center/UN Plaza BART Station (Market St ...   \n",
       "148930                        Cyril Magnin St at Ellis St   \n",
       "9002      Mechanics Monument Plaza (Market St at Bush St)   \n",
       "107626                               Jackson St at 5th St   \n",
       "117711                Union Square (Powell St at Post St)   \n",
       "81668                 Union Square (Powell St at Post St)   \n",
       "56478                       O'Farrell St at Divisadero St   \n",
       "80942                                 2nd St at S Park St   \n",
       "36378                              29th St at Tiffany Ave   \n",
       "\n",
       "        end_station_latitude  end_station_longitude  bike_id user_type  \\\n",
       "107286             37.797280            -122.398436     15.0  Customer   \n",
       "61354              37.781074            -122.411738   2090.0  Customer   \n",
       "148930             37.785881            -122.408915   2150.0  Customer   \n",
       "9002               37.791300            -122.399051   1090.0  Customer   \n",
       "107626             37.348759            -121.894798   1685.0  Customer   \n",
       "117711             37.788300            -122.408531   3157.0  Customer   \n",
       "81668              37.788300            -122.408531   1919.0  Customer   \n",
       "56478              37.782405            -122.439446    380.0  Customer   \n",
       "80942              37.782411            -122.392706    418.0  Customer   \n",
       "36378              37.744067            -122.421472   2984.0  Customer   \n",
       "\n",
       "        duration_min  start_date  start_hour_of_day start_day_of_week  \\\n",
       "107286    159.633333  2017-11-23                 14          Thursday   \n",
       "61354     154.600000  2017-12-07                 20          Thursday   \n",
       "148930     92.233333  2017-11-09                 18          Thursday   \n",
       "9002      102.933333  2017-12-26                 13           Tuesday   \n",
       "107626    120.633333  2017-11-23                 12          Thursday   \n",
       "117711    107.500000  2017-11-20                  8            Monday   \n",
       "81668     159.533333  2017-12-02                 10          Saturday   \n",
       "56478     119.866667  2017-12-09                 11          Saturday   \n",
       "80942     148.466667  2017-12-02                 14          Saturday   \n",
       "36378     113.450000  2017-12-14                 19          Thursday   \n",
       "\n",
       "       start_month  \n",
       "107286    November  \n",
       "61354     December  \n",
       "148930    November  \n",
       "9002      December  \n",
       "107626    November  \n",
       "117711    November  \n",
       "81668     December  \n",
       "56478     December  \n",
       "80942     December  \n",
       "36378     December  "
      ]
     },
     "execution_count": 99,
     "metadata": {},
     "output_type": "execute_result"
    }
   ],
   "source": [
    "outliers.sample(10)"
   ]
  },
  {
   "cell_type": "markdown",
   "metadata": {},
   "source": [
    "When did the outlier cases happened?"
   ]
  },
  {
   "cell_type": "code",
   "execution_count": 150,
   "metadata": {},
   "outputs": [
    {
     "data": {
      "image/png": "[encoded data removed]",
      "text/plain": [
       "<matplotlib.figure.Figure at 0x7fc312344048>"
      ]
     },
     "metadata": {},
     "output_type": "display_data"
    }
   ],
   "source": [
    "# Visualizing distribution of trips by a day of week for the dataset with outliers\n",
    "sb.countplot(data=outliers, x='start_day_of_week',color=base_color)\n",
    "plt.xlabel('Start day of week', fontsize=14)\n",
    "plt.ylabel('Count', fontsize=14)\n",
    "plt.title(\"Distribution of trips by the start day of week for trips > 77 mins\", fontsize=16);"
   ]
  },
  {
   "cell_type": "markdown",
   "metadata": {},
   "source": [
    "- It shows that people spend more time in bike during weekends."
   ]
  },
  {
   "cell_type": "markdown",
   "metadata": {},
   "source": [
    "##### At what time do we get the outlier cases?"
   ]
  },
  {
   "cell_type": "code",
   "execution_count": 102,
   "metadata": {},
   "outputs": [
    {
     "data": {
      "image/png": "[encoded data removed]",
      "text/plain": [
       "<matplotlib.figure.Figure at 0x7fc3182bba58>"
      ]
     },
     "metadata": {},
     "output_type": "display_data"
    }
   ],
   "source": [
    "# Visualizing distribution of trips by hours for the dataset with outliers\n",
    "\n",
    "plt.rcParams['figure.figsize'] = 9, 7\n",
    "base_color = sb.color_palette('colorblind')[0]\n",
    "sb.set_style('darkgrid')\n",
    "\n",
    "sb.countplot(data=outliers, x='start_hour_of_day', color=base_color)\n",
    "plt.xlabel('Start hour of day', fontsize=14)\n",
    "plt.ylabel('Count', fontsize=14)\n",
    "plt.title(\"Distribution of trips by the start hour of day for trips > 77 mins\", fontsize=16);"
   ]
  },
  {
   "cell_type": "markdown",
   "metadata": {},
   "source": [
    "- longer trips (>77 mins) will be more likely from 11 AM to 3 PM."
   ]
  },
  {
   "cell_type": "code",
   "execution_count": 111,
   "metadata": {},
   "outputs": [
    {
     "data": {
      "image/png": "[encoded data removed]",
      "text/plain": [
       "<matplotlib.figure.Figure at 0x7fc311ff0390>"
      ]
     },
     "metadata": {},
     "output_type": "display_data"
    }
   ],
   "source": [
    "#By hour of the day (comparison between users type)\n",
    "g = sb.FacetGrid(data=main, col='user_type',aspect=2)\n",
    "g.map(plt.hist, 'start_hour_of_day');\n",
    "plt.tight_layout()\n",
    "plt.xticks(np.arange(0,25,1));"
   ]
  },
  {
   "cell_type": "markdown",
   "metadata": {},
   "source": [
    "- Although customers tend to rent bikes seemingly uniformly, except for a peak in the afternoons, regular users(subscribers), seem to rent it in the mornings and evenings, which suggest that they take it for work."
   ]
  },
  {
   "cell_type": "code",
   "execution_count": 135,
   "metadata": {},
   "outputs": [
    {
     "data": {
      "text/plain": [
       "<seaborn.axisgrid.FacetGrid at 0x7fc311ed5d30>"
      ]
     },
     "execution_count": 135,
     "metadata": {},
     "output_type": "execute_result"
    },
    {
     "data": {
      "image/png": "[encoded data removed]",
      "text/plain": [
       "<matplotlib.figure.Figure at 0x7fc31d7803c8>"
      ]
     },
     "metadata": {},
     "output_type": "display_data"
    }
   ],
   "source": [
    "#By day of the week (comparison between users type)\n",
    "g = sb.FacetGrid(data=main, col='user_type')\n",
    "g.map(plt.hist,'start_day_of_week');\n",
    "plt.tight_layout()\n",
    "days = [ '1', '2', '3', '4', '5', \n",
    "             '6', '7']\n",
    "g.set_xticklabels(days)"
   ]
  },
  {
   "cell_type": "markdown",
   "metadata": {},
   "source": [
    "- Subscribers tend to drive more during the weekdays reinforcing the theory of bikes being considered a mode of transport for work."
   ]
  },
  {
   "cell_type": "code",
   "execution_count": 136,
   "metadata": {},
   "outputs": [
    {
     "data": {
      "text/plain": [
       "<seaborn.axisgrid.FacetGrid at 0x7fc313965e80>"
      ]
     },
     "execution_count": 136,
     "metadata": {},
     "output_type": "execute_result"
    },
    {
     "data": {
      "image/png": "[encoded data removed]",
      "text/plain": [
       "<matplotlib.figure.Figure at 0x7fc3138daa90>"
      ]
     },
     "metadata": {},
     "output_type": "display_data"
    }
   ],
   "source": [
    "#By month of the year (comparison between users type)\n",
    "g = sb.FacetGrid(data=main, col='user_type')\n",
    "g.map(plt.hist,'start_month');\n",
    "plt.tight_layout()\n",
    "month=[11,12]\n",
    "g.set_xticklabels(month)"
   ]
  },
  {
   "cell_type": "markdown",
   "metadata": {},
   "source": [
    "- Irrespective of user type, demand seems to be equally in both months."
   ]
  },
  {
   "cell_type": "markdown",
   "metadata": {},
   "source": [
    "### Insights from univariate data exploration\n",
    "\n",
    "  - The most busy hour is 5 PM, second busy hour is 8AM. The busy hours are 7-9 AM in morning and 4PM-6PM in the evening. This time is common commuting time.\n",
    "  - On Saturdays and Sundays people tend to use the bike service less\n",
    "  - Majority of the useres were subscribers.\n",
    "  - Overall, people tend to rent a bike for less than an hour\n",
    "  - Longer periods of use (> 77 mins) are associated with weekends\n",
    "  - Longer trips (>77 mins) will be more likely from 12 PM to 4 PM.\n",
    "  - Duration is higher if the user type is a one time customer\n",
    "  - Subscriber seems to have lesser duration, compared to Customer.\n",
    "  - Although customers tend to rent bikes seemingly uniformly, except for a peak in the afternoons, regular users(subscribers), seem to rent it in the mornings and evenings, which suggest that they take it for work.\n",
    "  - Subscribers tend to drive more during the weekdays reinforcing the theory of bikes being considered a mode of transport for work.\n",
    "  - Irrespective of user type, demand seems to be equally in both months.\n"
   ]
  },
  {
   "cell_type": "markdown",
   "metadata": {},
   "source": [
    "### Discuss the distribution(s) of your variable(s) of interest. Were there any unusual points? Did you need to perform any transformations?\n",
    "\n",
    "   - Duration in seconds had a lot of outliers which were trimmed using Z score as the determinant.\n",
    "   - Duration in minutes also had outliers which is analysis for trips > 77 mins.\n",
    "\n",
    "### the features you investigated, were there any unusual distributions? Did you perform any operations on the data to tidy, adjust, or change the form of the data? If so, why did you do this?\n",
    "\n",
    "   - One of the most interesting observations was the relationship between user type and start hour of the trip. While Subscribers rented it in the mornings and evenings, Customers rented it sporadically, peaking slightly in the afternoon, suggesting that Subscribers used the bikes as a mode of transport for work"
   ]
  },
  {
   "cell_type": "markdown",
   "metadata": {},
   "source": [
    "## Bivariate Exploration\n",
    "   How much time do each user group tend to spend in a trip? Is there any difference?"
   ]
  },
  {
   "cell_type": "markdown",
   "metadata": {},
   "source": [
    "#### Here are some of the combinations we shall be exploring :\n",
    "   - Start_day_of_week and User Type\n",
    "   - Hourly and User Type\n",
    "   - User Type and Duration_sec\n",
    "   - Monthly and User Type"
   ]
  },
  {
   "cell_type": "markdown",
   "metadata": {},
   "source": [
    "#### Is there any difference in weekly usage between type of users?"
   ]
  },
  {
   "cell_type": "code",
   "execution_count": 153,
   "metadata": {},
   "outputs": [
    {
     "data": {
      "image/png": "[encoded data removed]",
      "text/plain": [
       "<matplotlib.figure.Figure at 0x7fc311eda358>"
      ]
     },
     "metadata": {},
     "output_type": "display_data"
    }
   ],
   "source": [
    "# Daily usage by a user type\n",
    "plt.rcParams['figure.figsize'] = 9, 7\n",
    "sb.countplot(data=main, x='start_day_of_week', hue='user_type');\n",
    "plt.xlabel('Day of week', fontsize=14)\n",
    "plt.ylabel('Count', fontsize=14)\n",
    "plt.title(\"Daily usage by a type of users\", fontsize=16);"
   ]
  },
  {
   "cell_type": "markdown",
   "metadata": {},
   "source": [
    "- Customers more tend to use the service during weekends, while subscribers prefer to cycle from Monday to Friday"
   ]
  },
  {
   "cell_type": "code",
   "execution_count": 154,
   "metadata": {},
   "outputs": [
    {
     "data": {
      "image/png": "[encoded data removed]",
      "text/plain": [
       "<matplotlib.figure.Figure at 0x7fc30ed474a8>"
      ]
     },
     "metadata": {},
     "output_type": "display_data"
    }
   ],
   "source": [
    "# Hourly usage by a user type\n",
    "plt.rcParams['figure.figsize'] = 12, 9\n",
    "sb.countplot(data=main, x='start_hour_of_day', hue='user_type');\n",
    "plt.xlabel('Hour of Day', fontsize=14)\n",
    "plt.ylabel('Count', fontsize=14)\n",
    "plt.title(\"Hourly usage by a type of users\", fontsize=16);"
   ]
  },
  {
   "cell_type": "markdown",
   "metadata": {},
   "source": [
    "- Both customers and subscribers have similar pattern. This graph proves that customers and subscribers tend to use bike at rush a hours."
   ]
  },
  {
   "cell_type": "code",
   "execution_count": 156,
   "metadata": {},
   "outputs": [
    {
     "data": {
      "image/png": "[encoded data removed]",
      "text/plain": [
       "<matplotlib.figure.Figure at 0x7fc311aee7f0>"
      ]
     },
     "metadata": {},
     "output_type": "display_data"
    }
   ],
   "source": [
    "# User Type and Duration\n",
    "sb.violinplot(data=main,x='user_type',y='duration_sec', color=base_color);"
   ]
  },
  {
   "cell_type": "markdown",
   "metadata": {},
   "source": [
    "- subscribers seem to finish their trips faster than customers"
   ]
  },
  {
   "cell_type": "code",
   "execution_count": 163,
   "metadata": {},
   "outputs": [
    {
     "data": {
      "image/png": "[encoded data removed]",
      "text/plain": [
       "<matplotlib.figure.Figure at 0x7fc30e89c240>"
      ]
     },
     "metadata": {},
     "output_type": "display_data"
    }
   ],
   "source": [
    "# User Type and Month\n",
    "plt.rcParams['figure.figsize'] = 12, 9\n",
    "sb.countplot(data=main, x='start_month', hue='user_type');\n",
    "plt.xlabel('Month', fontsize=14)\n",
    "plt.ylabel('Count', fontsize=14)\n",
    "plt.title(\"Monthly usage by users\", fontsize=16);"
   ]
  },
  {
   "cell_type": "markdown",
   "metadata": {},
   "source": [
    "- Both customers and subscribers have similar pattern. This graph proves that customers and subscribers tend to use more bike in december month."
   ]
  },
  {
   "cell_type": "markdown",
   "metadata": {},
   "source": [
    "## Insights from bivariate data exploration\n",
    " - Customers more tend to use the service during weekends, while subscribers prefer to cycle from Monday to Friday\n",
    " - Both customers and subscribers have similar pattern. This graph proves that customers and subscribers tend to use bike at rush a hours.\n",
    " - Both customers and subscribers have similar pattern. This graph proves that customers and subscribers tend to use more bike in december month."
   ]
  },
  {
   "cell_type": "markdown",
   "metadata": {},
   "source": [
    "## Talk about some of the relationships you observed in this part of the investigation. How did the feature(s) of interest vary with other features in the dataset?\n",
    "  - It is already established that subscribers seem to finish their trips faster than customers, the 1st plot further reinforces that point."
   ]
  },
  {
   "cell_type": "markdown",
   "metadata": {},
   "source": [
    "## Did you observe any interesting relationships between the other features (not the main feature(s) of interest)?\n",
    " - There seems to be an interesting relationship between the time taken to complete a trip and the starting hour. Probably an indication of traffic."
   ]
  },
  {
   "cell_type": "markdown",
   "metadata": {},
   "source": [
    "## Multivariate Exploration\n",
    "   Create plots of three or more variables to investigate your data even further. Make sure that your investigations are justified, and follow from your work in the previous sections."
   ]
  },
  {
   "cell_type": "markdown",
   "metadata": {},
   "source": [
    "#### Here are some of the combinations we shall be exploring :\n",
    " - User Type, start_day_of_week and Duration in Seconds\n",
    " - User Type, start_hour_of_day and Duration in Seconds"
   ]
  },
  {
   "cell_type": "code",
   "execution_count": 178,
   "metadata": {},
   "outputs": [
    {
     "name": "stderr",
     "output_type": "stream",
     "text": [
      "/opt/conda/lib/python3.6/site-packages/seaborn/axisgrid.py:703: UserWarning: Using the barplot function without specifying `order` is likely to produce an incorrect plot.\n",
      "  warnings.warn(warning)\n"
     ]
    },
    {
     "data": {
      "image/png": "[encoded data removed]",
      "text/plain": [
       "<matplotlib.figure.Figure at 0x7fc30919cf60>"
      ]
     },
     "metadata": {},
     "output_type": "display_data"
    }
   ],
   "source": [
    "g = sb.FacetGrid(data=main, col='user_type')\n",
    "days = [ '1', '2', '3', '4', '5', \n",
    "             '6', '7']\n",
    "g.map(sb.barplot,'start_day_of_week','duration_sec');\n",
    "g.set_xticklabels(days)\n",
    "plt.tight_layout();"
   ]
  },
  {
   "cell_type": "markdown",
   "metadata": {},
   "source": [
    "- Trip duration for customers is larger than for subscribers. Also, it is clear that subscribers spend less time in a trip than customers. Both of the user types have an increasing trend for the average time for a trip by the end of a week."
   ]
  },
  {
   "cell_type": "code",
   "execution_count": 180,
   "metadata": {},
   "outputs": [
    {
     "data": {
      "image/png": "[encoded data removed]",
      "text/plain": [
       "<matplotlib.figure.Figure at 0x7fc30936e0b8>"
      ]
     },
     "metadata": {},
     "output_type": "display_data"
    }
   ],
   "source": [
    "sb.barplot(data=main, x='start_hour_of_day',y='duration_sec',hue='user_type');"
   ]
  },
  {
   "cell_type": "markdown",
   "metadata": {},
   "source": [
    "### Q2: How does the hourly usage vary during a week for customers and subscribers?"
   ]
  },
  {
   "cell_type": "code",
   "execution_count": 184,
   "metadata": {},
   "outputs": [
    {
     "data": {
      "image/png": "[encoded data removed]",
      "text/plain": [
       "<matplotlib.figure.Figure at 0x7fc309a8df98>"
      ]
     },
     "metadata": {},
     "output_type": "display_data"
    }
   ],
   "source": [
    "plt.suptitle('Hourly usage during a week for customers and subscribers', fontsize=16)\n",
    "\n",
    "plt.subplot(2, 1, 1)\n",
    "customers = main.query('user_type == \"Customer\"')\n",
    "ct_counts = customers.groupby(['start_day_of_week', 'start_hour_of_day']).size()\n",
    "ct_counts = ct_counts.reset_index(name='count')\n",
    "ct_counts = ct_counts.pivot(index='start_day_of_week', columns='start_hour_of_day', values='count')\n",
    "sb.heatmap(ct_counts, cmap=\"Blues\");\n",
    "plt.title('Customer', loc='right', fontsize=14);\n",
    "plt.xlabel('Hour of day', fontsize=14);\n",
    "plt.ylabel('Day of week', fontsize=14);\n",
    "\n",
    "plt.subplot(2, 1, 2)\n",
    "subscribers = main.query('user_type == \"Subscriber\"')\n",
    "st_counts = subscribers.groupby(['start_day_of_week', 'start_hour_of_day']).size()\n",
    "st_counts = st_counts.reset_index(name='count')\n",
    "st_counts = st_counts.pivot(index='start_day_of_week', columns='start_hour_of_day', values='count')\n",
    "sb.heatmap(st_counts, cmap=\"Blues\");\n",
    "plt.title('Subscriber', loc='right', fontsize=14);\n",
    "plt.xlabel('Hour of day', fontsize=14);\n",
    "plt.ylabel('Day of week', fontsize=14);"
   ]
  },
  {
   "cell_type": "markdown",
   "metadata": {},
   "source": [
    "- It is interesting, that customers tend to use the bike service mostly on Sunday from 12 PM to 4 PM, while subscribers will likely have a trip from Monday to Friday during rush hours (7-9 AM, 4 PM - 6 PM)."
   ]
  },
  {
   "cell_type": "markdown",
   "metadata": {},
   "source": [
    "## Talk about some of the relationships you observed in this part of the investigation. Were there features that strengthened each other in terms of looking at your feature(s) of interest?\n",
    "\n",
    "- Sure. Definitely each of these graphs reinforces the general hypothesis that customers are more like recreational users and suscribers tend to be people that use them to go to work or school. But the last (multivariate explorations) help us get even more detail about the patterns of use and the differences between customers and suscribers."
   ]
  },
  {
   "cell_type": "markdown",
   "metadata": {},
   "source": [
    "## Were there any interesting or surprising interactions between features?\n",
    "\n",
    "- Sure. For both types of users the distribution of rides during the weekdays depends a lot on the hour of the day and the month of the year.As expected, trip data seems to be most during the 9 am to 6 pm timeline, across stations with high traffic."
   ]
  },
  {
   "cell_type": "code",
   "execution_count": null,
   "metadata": {},
   "outputs": [],
   "source": []
  }
 ],
 "metadata": {
  "kernelspec": {
   "display_name": "Python 3",
   "language": "python",
   "name": "python3"
  },
  "language_info": {
   "codemirror_mode": {
    "name": "ipython",
    "version": 3
   },
   "file_extension": ".py",
   "mimetype": "text/x-python",
   "name": "python",
   "nbconvert_exporter": "python",
   "pygments_lexer": "ipython3",
   "version": "3.6.3"
  }
 },
 "nbformat": 4,
 "nbformat_minor": 2
}
